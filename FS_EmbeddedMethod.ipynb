{
  "nbformat": 4,
  "nbformat_minor": 0,
  "metadata": {
    "colab": {
      "provenance": [],
      "include_colab_link": true
    },
    "kernelspec": {
      "name": "python3",
      "display_name": "Python 3"
    },
    "language_info": {
      "name": "python"
    }
  },
  "cells": [
    {
      "cell_type": "markdown",
      "metadata": {
        "id": "view-in-github",
        "colab_type": "text"
      },
      "source": [
        "<a href=\"https://colab.research.google.com/github/anajikadam/ML_Projects-2023/blob/main/FS_EmbeddedMethod.ipynb\" target=\"_parent\"><img src=\"https://colab.research.google.com/assets/colab-badge.svg\" alt=\"Open In Colab\"/></a>"
      ]
    },
    {
      "cell_type": "code",
      "execution_count": null,
      "metadata": {
        "id": "NLEyMNs_uJdz"
      },
      "outputs": [],
      "source": []
    },
    {
      "cell_type": "markdown",
      "source": [
        "# Regularized Models\n",
        "\n",
        "Regularized linear models are linear models that include a penalty term in the loss function during training. The penalty term discourages the learning of a too complex model, which can help prevent overfitting."
      ],
      "metadata": {
        "id": "1Y8CJteFAWf8"
      }
    },
    {
      "cell_type": "markdown",
      "source": [
        "### Feature Selection using LASSO"
      ],
      "metadata": {
        "id": "2VOHM51EyhfJ"
      }
    },
    {
      "cell_type": "code",
      "source": [
        "from sklearn import datasets\n",
        "import pandas as pd\n",
        "\n",
        "df = pd.read_csv('https://raw.githubusercontent.com/npradaschnor/Pima-Indians-Diabetes-Dataset/master/diabetes.csv')\n",
        "\n",
        "df.head()"
      ],
      "metadata": {
        "colab": {
          "base_uri": "https://localhost:8080/",
          "height": 206
        },
        "id": "MRYDOAZGuNfu",
        "outputId": "ac150c78-0236-421a-bbe3-fbb653bd3438"
      },
      "execution_count": 1,
      "outputs": [
        {
          "output_type": "execute_result",
          "data": {
            "text/plain": [
              "   Pregnancies  Glucose  BloodPressure  SkinThickness  Insulin   BMI  \\\n",
              "0            6      148             72             35        0  33.6   \n",
              "1            1       85             66             29        0  26.6   \n",
              "2            8      183             64              0        0  23.3   \n",
              "3            1       89             66             23       94  28.1   \n",
              "4            0      137             40             35      168  43.1   \n",
              "\n",
              "   DiabetesPedigreeFunction  Age  Outcome  \n",
              "0                     0.627   50        1  \n",
              "1                     0.351   31        0  \n",
              "2                     0.672   32        1  \n",
              "3                     0.167   21        0  \n",
              "4                     2.288   33        1  "
            ],
            "text/html": [
              "\n",
              "  <div id=\"df-05d3a99a-5549-487c-8bf6-2745345aa665\">\n",
              "    <div class=\"colab-df-container\">\n",
              "      <div>\n",
              "<style scoped>\n",
              "    .dataframe tbody tr th:only-of-type {\n",
              "        vertical-align: middle;\n",
              "    }\n",
              "\n",
              "    .dataframe tbody tr th {\n",
              "        vertical-align: top;\n",
              "    }\n",
              "\n",
              "    .dataframe thead th {\n",
              "        text-align: right;\n",
              "    }\n",
              "</style>\n",
              "<table border=\"1\" class=\"dataframe\">\n",
              "  <thead>\n",
              "    <tr style=\"text-align: right;\">\n",
              "      <th></th>\n",
              "      <th>Pregnancies</th>\n",
              "      <th>Glucose</th>\n",
              "      <th>BloodPressure</th>\n",
              "      <th>SkinThickness</th>\n",
              "      <th>Insulin</th>\n",
              "      <th>BMI</th>\n",
              "      <th>DiabetesPedigreeFunction</th>\n",
              "      <th>Age</th>\n",
              "      <th>Outcome</th>\n",
              "    </tr>\n",
              "  </thead>\n",
              "  <tbody>\n",
              "    <tr>\n",
              "      <th>0</th>\n",
              "      <td>6</td>\n",
              "      <td>148</td>\n",
              "      <td>72</td>\n",
              "      <td>35</td>\n",
              "      <td>0</td>\n",
              "      <td>33.6</td>\n",
              "      <td>0.627</td>\n",
              "      <td>50</td>\n",
              "      <td>1</td>\n",
              "    </tr>\n",
              "    <tr>\n",
              "      <th>1</th>\n",
              "      <td>1</td>\n",
              "      <td>85</td>\n",
              "      <td>66</td>\n",
              "      <td>29</td>\n",
              "      <td>0</td>\n",
              "      <td>26.6</td>\n",
              "      <td>0.351</td>\n",
              "      <td>31</td>\n",
              "      <td>0</td>\n",
              "    </tr>\n",
              "    <tr>\n",
              "      <th>2</th>\n",
              "      <td>8</td>\n",
              "      <td>183</td>\n",
              "      <td>64</td>\n",
              "      <td>0</td>\n",
              "      <td>0</td>\n",
              "      <td>23.3</td>\n",
              "      <td>0.672</td>\n",
              "      <td>32</td>\n",
              "      <td>1</td>\n",
              "    </tr>\n",
              "    <tr>\n",
              "      <th>3</th>\n",
              "      <td>1</td>\n",
              "      <td>89</td>\n",
              "      <td>66</td>\n",
              "      <td>23</td>\n",
              "      <td>94</td>\n",
              "      <td>28.1</td>\n",
              "      <td>0.167</td>\n",
              "      <td>21</td>\n",
              "      <td>0</td>\n",
              "    </tr>\n",
              "    <tr>\n",
              "      <th>4</th>\n",
              "      <td>0</td>\n",
              "      <td>137</td>\n",
              "      <td>40</td>\n",
              "      <td>35</td>\n",
              "      <td>168</td>\n",
              "      <td>43.1</td>\n",
              "      <td>2.288</td>\n",
              "      <td>33</td>\n",
              "      <td>1</td>\n",
              "    </tr>\n",
              "  </tbody>\n",
              "</table>\n",
              "</div>\n",
              "      <button class=\"colab-df-convert\" onclick=\"convertToInteractive('df-05d3a99a-5549-487c-8bf6-2745345aa665')\"\n",
              "              title=\"Convert this dataframe to an interactive table.\"\n",
              "              style=\"display:none;\">\n",
              "        \n",
              "  <svg xmlns=\"http://www.w3.org/2000/svg\" height=\"24px\"viewBox=\"0 0 24 24\"\n",
              "       width=\"24px\">\n",
              "    <path d=\"M0 0h24v24H0V0z\" fill=\"none\"/>\n",
              "    <path d=\"M18.56 5.44l.94 2.06.94-2.06 2.06-.94-2.06-.94-.94-2.06-.94 2.06-2.06.94zm-11 1L8.5 8.5l.94-2.06 2.06-.94-2.06-.94L8.5 2.5l-.94 2.06-2.06.94zm10 10l.94 2.06.94-2.06 2.06-.94-2.06-.94-.94-2.06-.94 2.06-2.06.94z\"/><path d=\"M17.41 7.96l-1.37-1.37c-.4-.4-.92-.59-1.43-.59-.52 0-1.04.2-1.43.59L10.3 9.45l-7.72 7.72c-.78.78-.78 2.05 0 2.83L4 21.41c.39.39.9.59 1.41.59.51 0 1.02-.2 1.41-.59l7.78-7.78 2.81-2.81c.8-.78.8-2.07 0-2.86zM5.41 20L4 18.59l7.72-7.72 1.47 1.35L5.41 20z\"/>\n",
              "  </svg>\n",
              "      </button>\n",
              "      \n",
              "  <style>\n",
              "    .colab-df-container {\n",
              "      display:flex;\n",
              "      flex-wrap:wrap;\n",
              "      gap: 12px;\n",
              "    }\n",
              "\n",
              "    .colab-df-convert {\n",
              "      background-color: #E8F0FE;\n",
              "      border: none;\n",
              "      border-radius: 50%;\n",
              "      cursor: pointer;\n",
              "      display: none;\n",
              "      fill: #1967D2;\n",
              "      height: 32px;\n",
              "      padding: 0 0 0 0;\n",
              "      width: 32px;\n",
              "    }\n",
              "\n",
              "    .colab-df-convert:hover {\n",
              "      background-color: #E2EBFA;\n",
              "      box-shadow: 0px 1px 2px rgba(60, 64, 67, 0.3), 0px 1px 3px 1px rgba(60, 64, 67, 0.15);\n",
              "      fill: #174EA6;\n",
              "    }\n",
              "\n",
              "    [theme=dark] .colab-df-convert {\n",
              "      background-color: #3B4455;\n",
              "      fill: #D2E3FC;\n",
              "    }\n",
              "\n",
              "    [theme=dark] .colab-df-convert:hover {\n",
              "      background-color: #434B5C;\n",
              "      box-shadow: 0px 1px 3px 1px rgba(0, 0, 0, 0.15);\n",
              "      filter: drop-shadow(0px 1px 2px rgba(0, 0, 0, 0.3));\n",
              "      fill: #FFFFFF;\n",
              "    }\n",
              "  </style>\n",
              "\n",
              "      <script>\n",
              "        const buttonEl =\n",
              "          document.querySelector('#df-05d3a99a-5549-487c-8bf6-2745345aa665 button.colab-df-convert');\n",
              "        buttonEl.style.display =\n",
              "          google.colab.kernel.accessAllowed ? 'block' : 'none';\n",
              "\n",
              "        async function convertToInteractive(key) {\n",
              "          const element = document.querySelector('#df-05d3a99a-5549-487c-8bf6-2745345aa665');\n",
              "          const dataTable =\n",
              "            await google.colab.kernel.invokeFunction('convertToInteractive',\n",
              "                                                     [key], {});\n",
              "          if (!dataTable) return;\n",
              "\n",
              "          const docLinkHtml = 'Like what you see? Visit the ' +\n",
              "            '<a target=\"_blank\" href=https://colab.research.google.com/notebooks/data_table.ipynb>data table notebook</a>'\n",
              "            + ' to learn more about interactive tables.';\n",
              "          element.innerHTML = '';\n",
              "          dataTable['output_type'] = 'display_data';\n",
              "          await google.colab.output.renderOutput(dataTable, element);\n",
              "          const docLink = document.createElement('div');\n",
              "          docLink.innerHTML = docLinkHtml;\n",
              "          element.appendChild(docLink);\n",
              "        }\n",
              "      </script>\n",
              "    </div>\n",
              "  </div>\n",
              "  "
            ]
          },
          "metadata": {},
          "execution_count": 1
        }
      ]
    },
    {
      "cell_type": "code",
      "source": [
        "from sklearn.model_selection import train_test_split\n",
        "\n",
        "X_train, X_test, y_train, y_test = train_test_split(df.iloc[:,0:-1],df.iloc[:,-1],test_size=0.2,random_state=1)\n",
        "X_train.shape"
      ],
      "metadata": {
        "id": "wGOjD1vB8HFk",
        "colab": {
          "base_uri": "https://localhost:8080/"
        },
        "outputId": "a9460157-74f3-4f63-fcf8-222871cd3a31"
      },
      "execution_count": 3,
      "outputs": [
        {
          "output_type": "execute_result",
          "data": {
            "text/plain": [
              "(614, 8)"
            ]
          },
          "metadata": {},
          "execution_count": 3
        }
      ]
    },
    {
      "cell_type": "code",
      "source": [
        "X_train.head()"
      ],
      "metadata": {
        "colab": {
          "base_uri": "https://localhost:8080/",
          "height": 206
        },
        "id": "uGvkenj18gka",
        "outputId": "0194f662-78dd-4f07-c4e3-a751e2be9076"
      },
      "execution_count": 4,
      "outputs": [
        {
          "output_type": "execute_result",
          "data": {
            "text/plain": [
              "     Pregnancies  Glucose  BloodPressure  SkinThickness  Insulin   BMI  \\\n",
              "663            9      145             80             46      130  37.9   \n",
              "712           10      129             62             36        0  41.2   \n",
              "161            7      102             74             40      105  37.2   \n",
              "509            8      120             78              0        0  25.0   \n",
              "305            2      120             76             37      105  39.7   \n",
              "\n",
              "     DiabetesPedigreeFunction  Age  \n",
              "663                     0.637   40  \n",
              "712                     0.441   38  \n",
              "161                     0.204   45  \n",
              "509                     0.409   64  \n",
              "305                     0.215   29  "
            ],
            "text/html": [
              "\n",
              "  <div id=\"df-a21b0dcc-f4ac-4edd-9b17-011d3b659973\">\n",
              "    <div class=\"colab-df-container\">\n",
              "      <div>\n",
              "<style scoped>\n",
              "    .dataframe tbody tr th:only-of-type {\n",
              "        vertical-align: middle;\n",
              "    }\n",
              "\n",
              "    .dataframe tbody tr th {\n",
              "        vertical-align: top;\n",
              "    }\n",
              "\n",
              "    .dataframe thead th {\n",
              "        text-align: right;\n",
              "    }\n",
              "</style>\n",
              "<table border=\"1\" class=\"dataframe\">\n",
              "  <thead>\n",
              "    <tr style=\"text-align: right;\">\n",
              "      <th></th>\n",
              "      <th>Pregnancies</th>\n",
              "      <th>Glucose</th>\n",
              "      <th>BloodPressure</th>\n",
              "      <th>SkinThickness</th>\n",
              "      <th>Insulin</th>\n",
              "      <th>BMI</th>\n",
              "      <th>DiabetesPedigreeFunction</th>\n",
              "      <th>Age</th>\n",
              "    </tr>\n",
              "  </thead>\n",
              "  <tbody>\n",
              "    <tr>\n",
              "      <th>663</th>\n",
              "      <td>9</td>\n",
              "      <td>145</td>\n",
              "      <td>80</td>\n",
              "      <td>46</td>\n",
              "      <td>130</td>\n",
              "      <td>37.9</td>\n",
              "      <td>0.637</td>\n",
              "      <td>40</td>\n",
              "    </tr>\n",
              "    <tr>\n",
              "      <th>712</th>\n",
              "      <td>10</td>\n",
              "      <td>129</td>\n",
              "      <td>62</td>\n",
              "      <td>36</td>\n",
              "      <td>0</td>\n",
              "      <td>41.2</td>\n",
              "      <td>0.441</td>\n",
              "      <td>38</td>\n",
              "    </tr>\n",
              "    <tr>\n",
              "      <th>161</th>\n",
              "      <td>7</td>\n",
              "      <td>102</td>\n",
              "      <td>74</td>\n",
              "      <td>40</td>\n",
              "      <td>105</td>\n",
              "      <td>37.2</td>\n",
              "      <td>0.204</td>\n",
              "      <td>45</td>\n",
              "    </tr>\n",
              "    <tr>\n",
              "      <th>509</th>\n",
              "      <td>8</td>\n",
              "      <td>120</td>\n",
              "      <td>78</td>\n",
              "      <td>0</td>\n",
              "      <td>0</td>\n",
              "      <td>25.0</td>\n",
              "      <td>0.409</td>\n",
              "      <td>64</td>\n",
              "    </tr>\n",
              "    <tr>\n",
              "      <th>305</th>\n",
              "      <td>2</td>\n",
              "      <td>120</td>\n",
              "      <td>76</td>\n",
              "      <td>37</td>\n",
              "      <td>105</td>\n",
              "      <td>39.7</td>\n",
              "      <td>0.215</td>\n",
              "      <td>29</td>\n",
              "    </tr>\n",
              "  </tbody>\n",
              "</table>\n",
              "</div>\n",
              "      <button class=\"colab-df-convert\" onclick=\"convertToInteractive('df-a21b0dcc-f4ac-4edd-9b17-011d3b659973')\"\n",
              "              title=\"Convert this dataframe to an interactive table.\"\n",
              "              style=\"display:none;\">\n",
              "        \n",
              "  <svg xmlns=\"http://www.w3.org/2000/svg\" height=\"24px\"viewBox=\"0 0 24 24\"\n",
              "       width=\"24px\">\n",
              "    <path d=\"M0 0h24v24H0V0z\" fill=\"none\"/>\n",
              "    <path d=\"M18.56 5.44l.94 2.06.94-2.06 2.06-.94-2.06-.94-.94-2.06-.94 2.06-2.06.94zm-11 1L8.5 8.5l.94-2.06 2.06-.94-2.06-.94L8.5 2.5l-.94 2.06-2.06.94zm10 10l.94 2.06.94-2.06 2.06-.94-2.06-.94-.94-2.06-.94 2.06-2.06.94z\"/><path d=\"M17.41 7.96l-1.37-1.37c-.4-.4-.92-.59-1.43-.59-.52 0-1.04.2-1.43.59L10.3 9.45l-7.72 7.72c-.78.78-.78 2.05 0 2.83L4 21.41c.39.39.9.59 1.41.59.51 0 1.02-.2 1.41-.59l7.78-7.78 2.81-2.81c.8-.78.8-2.07 0-2.86zM5.41 20L4 18.59l7.72-7.72 1.47 1.35L5.41 20z\"/>\n",
              "  </svg>\n",
              "      </button>\n",
              "      \n",
              "  <style>\n",
              "    .colab-df-container {\n",
              "      display:flex;\n",
              "      flex-wrap:wrap;\n",
              "      gap: 12px;\n",
              "    }\n",
              "\n",
              "    .colab-df-convert {\n",
              "      background-color: #E8F0FE;\n",
              "      border: none;\n",
              "      border-radius: 50%;\n",
              "      cursor: pointer;\n",
              "      display: none;\n",
              "      fill: #1967D2;\n",
              "      height: 32px;\n",
              "      padding: 0 0 0 0;\n",
              "      width: 32px;\n",
              "    }\n",
              "\n",
              "    .colab-df-convert:hover {\n",
              "      background-color: #E2EBFA;\n",
              "      box-shadow: 0px 1px 2px rgba(60, 64, 67, 0.3), 0px 1px 3px 1px rgba(60, 64, 67, 0.15);\n",
              "      fill: #174EA6;\n",
              "    }\n",
              "\n",
              "    [theme=dark] .colab-df-convert {\n",
              "      background-color: #3B4455;\n",
              "      fill: #D2E3FC;\n",
              "    }\n",
              "\n",
              "    [theme=dark] .colab-df-convert:hover {\n",
              "      background-color: #434B5C;\n",
              "      box-shadow: 0px 1px 3px 1px rgba(0, 0, 0, 0.15);\n",
              "      filter: drop-shadow(0px 1px 2px rgba(0, 0, 0, 0.3));\n",
              "      fill: #FFFFFF;\n",
              "    }\n",
              "  </style>\n",
              "\n",
              "      <script>\n",
              "        const buttonEl =\n",
              "          document.querySelector('#df-a21b0dcc-f4ac-4edd-9b17-011d3b659973 button.colab-df-convert');\n",
              "        buttonEl.style.display =\n",
              "          google.colab.kernel.accessAllowed ? 'block' : 'none';\n",
              "\n",
              "        async function convertToInteractive(key) {\n",
              "          const element = document.querySelector('#df-a21b0dcc-f4ac-4edd-9b17-011d3b659973');\n",
              "          const dataTable =\n",
              "            await google.colab.kernel.invokeFunction('convertToInteractive',\n",
              "                                                     [key], {});\n",
              "          if (!dataTable) return;\n",
              "\n",
              "          const docLinkHtml = 'Like what you see? Visit the ' +\n",
              "            '<a target=\"_blank\" href=https://colab.research.google.com/notebooks/data_table.ipynb>data table notebook</a>'\n",
              "            + ' to learn more about interactive tables.';\n",
              "          element.innerHTML = '';\n",
              "          dataTable['output_type'] = 'display_data';\n",
              "          await google.colab.output.renderOutput(dataTable, element);\n",
              "          const docLink = document.createElement('div');\n",
              "          docLink.innerHTML = docLinkHtml;\n",
              "          element.appendChild(docLink);\n",
              "        }\n",
              "      </script>\n",
              "    </div>\n",
              "  </div>\n",
              "  "
            ]
          },
          "metadata": {},
          "execution_count": 4
        }
      ]
    },
    {
      "cell_type": "code",
      "source": [
        "from sklearn.preprocessing import StandardScaler\n",
        "\n",
        "cols = X_train.columns\n",
        "\n",
        "scaler = StandardScaler()\n",
        "X_train_scaled = scaler.fit_transform(X_train)\n",
        "X_test_scaled = scaler.transform(X_test)\n",
        "\n",
        "X_train_scaled = pd.DataFrame(X_train_scaled, columns=cols)\n",
        "X_test_scaled = pd.DataFrame(X_test_scaled, columns=cols)"
      ],
      "metadata": {
        "id": "vq4eJlT48iUe"
      },
      "execution_count": 5,
      "outputs": []
    },
    {
      "cell_type": "code",
      "source": [
        "X_train_scaled.head()"
      ],
      "metadata": {
        "colab": {
          "base_uri": "https://localhost:8080/",
          "height": 206
        },
        "id": "eDbu3wlZ9AzL",
        "outputId": "50f24b5e-7c29-4540-db9f-a30bb36fe793"
      },
      "execution_count": 6,
      "outputs": [
        {
          "output_type": "execute_result",
          "data": {
            "text/plain": [
              "   Pregnancies   Glucose  BloodPressure  SkinThickness   Insulin       BMI  \\\n",
              "0     1.516591  0.750524       0.564756       1.652015  0.437496  0.795825   \n",
              "1     1.812018  0.244752      -0.347904       1.020973 -0.678474  1.228654   \n",
              "2     0.925736 -0.608739       0.260536       1.273390  0.222886  0.704013   \n",
              "3     1.221164 -0.039745       0.463350      -1.250779 -0.678474 -0.896139   \n",
              "4    -0.551400 -0.039745       0.361943       1.084077  0.222886  1.031914   \n",
              "\n",
              "   DiabetesPedigreeFunction       Age  \n",
              "0                  0.529526  0.567932  \n",
              "1                 -0.069689  0.398450  \n",
              "2                 -0.794249  0.991638  \n",
              "3                 -0.167519  2.601722  \n",
              "4                 -0.760619 -0.364222  "
            ],
            "text/html": [
              "\n",
              "  <div id=\"df-0b83e04b-02fa-48a4-a178-3e477385e4cf\">\n",
              "    <div class=\"colab-df-container\">\n",
              "      <div>\n",
              "<style scoped>\n",
              "    .dataframe tbody tr th:only-of-type {\n",
              "        vertical-align: middle;\n",
              "    }\n",
              "\n",
              "    .dataframe tbody tr th {\n",
              "        vertical-align: top;\n",
              "    }\n",
              "\n",
              "    .dataframe thead th {\n",
              "        text-align: right;\n",
              "    }\n",
              "</style>\n",
              "<table border=\"1\" class=\"dataframe\">\n",
              "  <thead>\n",
              "    <tr style=\"text-align: right;\">\n",
              "      <th></th>\n",
              "      <th>Pregnancies</th>\n",
              "      <th>Glucose</th>\n",
              "      <th>BloodPressure</th>\n",
              "      <th>SkinThickness</th>\n",
              "      <th>Insulin</th>\n",
              "      <th>BMI</th>\n",
              "      <th>DiabetesPedigreeFunction</th>\n",
              "      <th>Age</th>\n",
              "    </tr>\n",
              "  </thead>\n",
              "  <tbody>\n",
              "    <tr>\n",
              "      <th>0</th>\n",
              "      <td>1.516591</td>\n",
              "      <td>0.750524</td>\n",
              "      <td>0.564756</td>\n",
              "      <td>1.652015</td>\n",
              "      <td>0.437496</td>\n",
              "      <td>0.795825</td>\n",
              "      <td>0.529526</td>\n",
              "      <td>0.567932</td>\n",
              "    </tr>\n",
              "    <tr>\n",
              "      <th>1</th>\n",
              "      <td>1.812018</td>\n",
              "      <td>0.244752</td>\n",
              "      <td>-0.347904</td>\n",
              "      <td>1.020973</td>\n",
              "      <td>-0.678474</td>\n",
              "      <td>1.228654</td>\n",
              "      <td>-0.069689</td>\n",
              "      <td>0.398450</td>\n",
              "    </tr>\n",
              "    <tr>\n",
              "      <th>2</th>\n",
              "      <td>0.925736</td>\n",
              "      <td>-0.608739</td>\n",
              "      <td>0.260536</td>\n",
              "      <td>1.273390</td>\n",
              "      <td>0.222886</td>\n",
              "      <td>0.704013</td>\n",
              "      <td>-0.794249</td>\n",
              "      <td>0.991638</td>\n",
              "    </tr>\n",
              "    <tr>\n",
              "      <th>3</th>\n",
              "      <td>1.221164</td>\n",
              "      <td>-0.039745</td>\n",
              "      <td>0.463350</td>\n",
              "      <td>-1.250779</td>\n",
              "      <td>-0.678474</td>\n",
              "      <td>-0.896139</td>\n",
              "      <td>-0.167519</td>\n",
              "      <td>2.601722</td>\n",
              "    </tr>\n",
              "    <tr>\n",
              "      <th>4</th>\n",
              "      <td>-0.551400</td>\n",
              "      <td>-0.039745</td>\n",
              "      <td>0.361943</td>\n",
              "      <td>1.084077</td>\n",
              "      <td>0.222886</td>\n",
              "      <td>1.031914</td>\n",
              "      <td>-0.760619</td>\n",
              "      <td>-0.364222</td>\n",
              "    </tr>\n",
              "  </tbody>\n",
              "</table>\n",
              "</div>\n",
              "      <button class=\"colab-df-convert\" onclick=\"convertToInteractive('df-0b83e04b-02fa-48a4-a178-3e477385e4cf')\"\n",
              "              title=\"Convert this dataframe to an interactive table.\"\n",
              "              style=\"display:none;\">\n",
              "        \n",
              "  <svg xmlns=\"http://www.w3.org/2000/svg\" height=\"24px\"viewBox=\"0 0 24 24\"\n",
              "       width=\"24px\">\n",
              "    <path d=\"M0 0h24v24H0V0z\" fill=\"none\"/>\n",
              "    <path d=\"M18.56 5.44l.94 2.06.94-2.06 2.06-.94-2.06-.94-.94-2.06-.94 2.06-2.06.94zm-11 1L8.5 8.5l.94-2.06 2.06-.94-2.06-.94L8.5 2.5l-.94 2.06-2.06.94zm10 10l.94 2.06.94-2.06 2.06-.94-2.06-.94-.94-2.06-.94 2.06-2.06.94z\"/><path d=\"M17.41 7.96l-1.37-1.37c-.4-.4-.92-.59-1.43-.59-.52 0-1.04.2-1.43.59L10.3 9.45l-7.72 7.72c-.78.78-.78 2.05 0 2.83L4 21.41c.39.39.9.59 1.41.59.51 0 1.02-.2 1.41-.59l7.78-7.78 2.81-2.81c.8-.78.8-2.07 0-2.86zM5.41 20L4 18.59l7.72-7.72 1.47 1.35L5.41 20z\"/>\n",
              "  </svg>\n",
              "      </button>\n",
              "      \n",
              "  <style>\n",
              "    .colab-df-container {\n",
              "      display:flex;\n",
              "      flex-wrap:wrap;\n",
              "      gap: 12px;\n",
              "    }\n",
              "\n",
              "    .colab-df-convert {\n",
              "      background-color: #E8F0FE;\n",
              "      border: none;\n",
              "      border-radius: 50%;\n",
              "      cursor: pointer;\n",
              "      display: none;\n",
              "      fill: #1967D2;\n",
              "      height: 32px;\n",
              "      padding: 0 0 0 0;\n",
              "      width: 32px;\n",
              "    }\n",
              "\n",
              "    .colab-df-convert:hover {\n",
              "      background-color: #E2EBFA;\n",
              "      box-shadow: 0px 1px 2px rgba(60, 64, 67, 0.3), 0px 1px 3px 1px rgba(60, 64, 67, 0.15);\n",
              "      fill: #174EA6;\n",
              "    }\n",
              "\n",
              "    [theme=dark] .colab-df-convert {\n",
              "      background-color: #3B4455;\n",
              "      fill: #D2E3FC;\n",
              "    }\n",
              "\n",
              "    [theme=dark] .colab-df-convert:hover {\n",
              "      background-color: #434B5C;\n",
              "      box-shadow: 0px 1px 3px 1px rgba(0, 0, 0, 0.15);\n",
              "      filter: drop-shadow(0px 1px 2px rgba(0, 0, 0, 0.3));\n",
              "      fill: #FFFFFF;\n",
              "    }\n",
              "  </style>\n",
              "\n",
              "      <script>\n",
              "        const buttonEl =\n",
              "          document.querySelector('#df-0b83e04b-02fa-48a4-a178-3e477385e4cf button.colab-df-convert');\n",
              "        buttonEl.style.display =\n",
              "          google.colab.kernel.accessAllowed ? 'block' : 'none';\n",
              "\n",
              "        async function convertToInteractive(key) {\n",
              "          const element = document.querySelector('#df-0b83e04b-02fa-48a4-a178-3e477385e4cf');\n",
              "          const dataTable =\n",
              "            await google.colab.kernel.invokeFunction('convertToInteractive',\n",
              "                                                     [key], {});\n",
              "          if (!dataTable) return;\n",
              "\n",
              "          const docLinkHtml = 'Like what you see? Visit the ' +\n",
              "            '<a target=\"_blank\" href=https://colab.research.google.com/notebooks/data_table.ipynb>data table notebook</a>'\n",
              "            + ' to learn more about interactive tables.';\n",
              "          element.innerHTML = '';\n",
              "          dataTable['output_type'] = 'display_data';\n",
              "          await google.colab.output.renderOutput(dataTable, element);\n",
              "          const docLink = document.createElement('div');\n",
              "          docLink.innerHTML = docLinkHtml;\n",
              "          element.appendChild(docLink);\n",
              "        }\n",
              "      </script>\n",
              "    </div>\n",
              "  </div>\n",
              "  "
            ]
          },
          "metadata": {},
          "execution_count": 6
        }
      ]
    },
    {
      "cell_type": "code",
      "source": [
        "from sklearn.linear_model import Lasso\n",
        "\n",
        "lasso = Lasso(alpha=0.1)\n",
        "\n",
        "lasso.fit(X_train_scaled, y_train)"
      ],
      "metadata": {
        "colab": {
          "base_uri": "https://localhost:8080/",
          "height": 75
        },
        "id": "rwWb5N7u9C_e",
        "outputId": "0a0f19cf-6be8-44c2-fcb5-3c3a3863d782"
      },
      "execution_count": 7,
      "outputs": [
        {
          "output_type": "execute_result",
          "data": {
            "text/plain": [
              "Lasso(alpha=0.1)"
            ],
            "text/html": [
              "<style>#sk-container-id-1 {color: black;background-color: white;}#sk-container-id-1 pre{padding: 0;}#sk-container-id-1 div.sk-toggleable {background-color: white;}#sk-container-id-1 label.sk-toggleable__label {cursor: pointer;display: block;width: 100%;margin-bottom: 0;padding: 0.3em;box-sizing: border-box;text-align: center;}#sk-container-id-1 label.sk-toggleable__label-arrow:before {content: \"▸\";float: left;margin-right: 0.25em;color: #696969;}#sk-container-id-1 label.sk-toggleable__label-arrow:hover:before {color: black;}#sk-container-id-1 div.sk-estimator:hover label.sk-toggleable__label-arrow:before {color: black;}#sk-container-id-1 div.sk-toggleable__content {max-height: 0;max-width: 0;overflow: hidden;text-align: left;background-color: #f0f8ff;}#sk-container-id-1 div.sk-toggleable__content pre {margin: 0.2em;color: black;border-radius: 0.25em;background-color: #f0f8ff;}#sk-container-id-1 input.sk-toggleable__control:checked~div.sk-toggleable__content {max-height: 200px;max-width: 100%;overflow: auto;}#sk-container-id-1 input.sk-toggleable__control:checked~label.sk-toggleable__label-arrow:before {content: \"▾\";}#sk-container-id-1 div.sk-estimator input.sk-toggleable__control:checked~label.sk-toggleable__label {background-color: #d4ebff;}#sk-container-id-1 div.sk-label input.sk-toggleable__control:checked~label.sk-toggleable__label {background-color: #d4ebff;}#sk-container-id-1 input.sk-hidden--visually {border: 0;clip: rect(1px 1px 1px 1px);clip: rect(1px, 1px, 1px, 1px);height: 1px;margin: -1px;overflow: hidden;padding: 0;position: absolute;width: 1px;}#sk-container-id-1 div.sk-estimator {font-family: monospace;background-color: #f0f8ff;border: 1px dotted black;border-radius: 0.25em;box-sizing: border-box;margin-bottom: 0.5em;}#sk-container-id-1 div.sk-estimator:hover {background-color: #d4ebff;}#sk-container-id-1 div.sk-parallel-item::after {content: \"\";width: 100%;border-bottom: 1px solid gray;flex-grow: 1;}#sk-container-id-1 div.sk-label:hover label.sk-toggleable__label {background-color: #d4ebff;}#sk-container-id-1 div.sk-serial::before {content: \"\";position: absolute;border-left: 1px solid gray;box-sizing: border-box;top: 0;bottom: 0;left: 50%;z-index: 0;}#sk-container-id-1 div.sk-serial {display: flex;flex-direction: column;align-items: center;background-color: white;padding-right: 0.2em;padding-left: 0.2em;position: relative;}#sk-container-id-1 div.sk-item {position: relative;z-index: 1;}#sk-container-id-1 div.sk-parallel {display: flex;align-items: stretch;justify-content: center;background-color: white;position: relative;}#sk-container-id-1 div.sk-item::before, #sk-container-id-1 div.sk-parallel-item::before {content: \"\";position: absolute;border-left: 1px solid gray;box-sizing: border-box;top: 0;bottom: 0;left: 50%;z-index: -1;}#sk-container-id-1 div.sk-parallel-item {display: flex;flex-direction: column;z-index: 1;position: relative;background-color: white;}#sk-container-id-1 div.sk-parallel-item:first-child::after {align-self: flex-end;width: 50%;}#sk-container-id-1 div.sk-parallel-item:last-child::after {align-self: flex-start;width: 50%;}#sk-container-id-1 div.sk-parallel-item:only-child::after {width: 0;}#sk-container-id-1 div.sk-dashed-wrapped {border: 1px dashed gray;margin: 0 0.4em 0.5em 0.4em;box-sizing: border-box;padding-bottom: 0.4em;background-color: white;}#sk-container-id-1 div.sk-label label {font-family: monospace;font-weight: bold;display: inline-block;line-height: 1.2em;}#sk-container-id-1 div.sk-label-container {text-align: center;}#sk-container-id-1 div.sk-container {/* jupyter's `normalize.less` sets `[hidden] { display: none; }` but bootstrap.min.css set `[hidden] { display: none !important; }` so we also need the `!important` here to be able to override the default hidden behavior on the sphinx rendered scikit-learn.org. See: https://github.com/scikit-learn/scikit-learn/issues/21755 */display: inline-block !important;position: relative;}#sk-container-id-1 div.sk-text-repr-fallback {display: none;}</style><div id=\"sk-container-id-1\" class=\"sk-top-container\"><div class=\"sk-text-repr-fallback\"><pre>Lasso(alpha=0.1)</pre><b>In a Jupyter environment, please rerun this cell to show the HTML representation or trust the notebook. <br />On GitHub, the HTML representation is unable to render, please try loading this page with nbviewer.org.</b></div><div class=\"sk-container\" hidden><div class=\"sk-item\"><div class=\"sk-estimator sk-toggleable\"><input class=\"sk-toggleable__control sk-hidden--visually\" id=\"sk-estimator-id-1\" type=\"checkbox\" checked><label for=\"sk-estimator-id-1\" class=\"sk-toggleable__label sk-toggleable__label-arrow\">Lasso</label><div class=\"sk-toggleable__content\"><pre>Lasso(alpha=0.1)</pre></div></div></div></div></div>"
            ]
          },
          "metadata": {},
          "execution_count": 7
        }
      ]
    },
    {
      "cell_type": "code",
      "source": [
        "lasso.coef_"
      ],
      "metadata": {
        "colab": {
          "base_uri": "https://localhost:8080/"
        },
        "id": "zlSFiYiv9gxB",
        "outputId": "ce3b2361-2411-40ee-f453-b38fdd641761"
      },
      "execution_count": 8,
      "outputs": [
        {
          "output_type": "execute_result",
          "data": {
            "text/plain": [
              "array([ 0.        ,  0.1267733 , -0.        ,  0.        ,  0.        ,\n",
              "        0.00480181,  0.        ,  0.        ])"
            ]
          },
          "metadata": {},
          "execution_count": 8
        }
      ]
    },
    {
      "cell_type": "code",
      "source": [
        "import matplotlib.pyplot as plt\n",
        "import numpy as np\n",
        "\n",
        "x = pd.Series(np.abs(lasso.coef_),index=cols)\n",
        "\n",
        "x.sort_values(ascending=False).plot(kind='bar')"
      ],
      "metadata": {
        "colab": {
          "base_uri": "https://localhost:8080/",
          "height": 614
        },
        "id": "4RpKaZSY9jqd",
        "outputId": "c25b5eba-0d76-44c6-80f2-d4e242751c12"
      },
      "execution_count": 9,
      "outputs": [
        {
          "output_type": "execute_result",
          "data": {
            "text/plain": [
              "<Axes: >"
            ]
          },
          "metadata": {},
          "execution_count": 9
        },
        {
          "output_type": "display_data",
          "data": {
            "text/plain": [
              "<Figure size 640x480 with 1 Axes>"
            ],
            "image/png": "[encoded data removed]"
          },
          "metadata": {}
        }
      ]
    },
    {
      "cell_type": "code",
      "source": [],
      "metadata": {
        "id": "1sTc_9xO9_ea"
      },
      "execution_count": null,
      "outputs": []
    },
    {
      "cell_type": "markdown",
      "source": [
        "### Feature Selection using Decision Tree"
      ],
      "metadata": {
        "id": "iZUqD_ngyobG"
      }
    },
    {
      "cell_type": "code",
      "source": [
        "from sklearn import datasets\n",
        "import pandas as pd\n",
        "\n",
        "df = pd.read_csv('https://raw.githubusercontent.com/npradaschnor/Pima-Indians-Diabetes-Dataset/master/diabetes.csv')\n",
        "\n",
        "df.head()"
      ],
      "metadata": {
        "colab": {
          "base_uri": "https://localhost:8080/",
          "height": 206
        },
        "id": "MP22s-Qi_PkG",
        "outputId": "65075bb3-b950-43e8-a1d0-9ea902d5a05a"
      },
      "execution_count": 10,
      "outputs": [
        {
          "output_type": "execute_result",
          "data": {
            "text/plain": [
              "   Pregnancies  Glucose  BloodPressure  SkinThickness  Insulin   BMI  \\\n",
              "0            6      148             72             35        0  33.6   \n",
              "1            1       85             66             29        0  26.6   \n",
              "2            8      183             64              0        0  23.3   \n",
              "3            1       89             66             23       94  28.1   \n",
              "4            0      137             40             35      168  43.1   \n",
              "\n",
              "   DiabetesPedigreeFunction  Age  Outcome  \n",
              "0                     0.627   50        1  \n",
              "1                     0.351   31        0  \n",
              "2                     0.672   32        1  \n",
              "3                     0.167   21        0  \n",
              "4                     2.288   33        1  "
            ],
            "text/html": [
              "\n",
              "  <div id=\"df-ab3a1ff3-85fd-4fca-a1e9-08b2d046b8f6\">\n",
              "    <div class=\"colab-df-container\">\n",
              "      <div>\n",
              "<style scoped>\n",
              "    .dataframe tbody tr th:only-of-type {\n",
              "        vertical-align: middle;\n",
              "    }\n",
              "\n",
              "    .dataframe tbody tr th {\n",
              "        vertical-align: top;\n",
              "    }\n",
              "\n",
              "    .dataframe thead th {\n",
              "        text-align: right;\n",
              "    }\n",
              "</style>\n",
              "<table border=\"1\" class=\"dataframe\">\n",
              "  <thead>\n",
              "    <tr style=\"text-align: right;\">\n",
              "      <th></th>\n",
              "      <th>Pregnancies</th>\n",
              "      <th>Glucose</th>\n",
              "      <th>BloodPressure</th>\n",
              "      <th>SkinThickness</th>\n",
              "      <th>Insulin</th>\n",
              "      <th>BMI</th>\n",
              "      <th>DiabetesPedigreeFunction</th>\n",
              "      <th>Age</th>\n",
              "      <th>Outcome</th>\n",
              "    </tr>\n",
              "  </thead>\n",
              "  <tbody>\n",
              "    <tr>\n",
              "      <th>0</th>\n",
              "      <td>6</td>\n",
              "      <td>148</td>\n",
              "      <td>72</td>\n",
              "      <td>35</td>\n",
              "      <td>0</td>\n",
              "      <td>33.6</td>\n",
              "      <td>0.627</td>\n",
              "      <td>50</td>\n",
              "      <td>1</td>\n",
              "    </tr>\n",
              "    <tr>\n",
              "      <th>1</th>\n",
              "      <td>1</td>\n",
              "      <td>85</td>\n",
              "      <td>66</td>\n",
              "      <td>29</td>\n",
              "      <td>0</td>\n",
              "      <td>26.6</td>\n",
              "      <td>0.351</td>\n",
              "      <td>31</td>\n",
              "      <td>0</td>\n",
              "    </tr>\n",
              "    <tr>\n",
              "      <th>2</th>\n",
              "      <td>8</td>\n",
              "      <td>183</td>\n",
              "      <td>64</td>\n",
              "      <td>0</td>\n",
              "      <td>0</td>\n",
              "      <td>23.3</td>\n",
              "      <td>0.672</td>\n",
              "      <td>32</td>\n",
              "      <td>1</td>\n",
              "    </tr>\n",
              "    <tr>\n",
              "      <th>3</th>\n",
              "      <td>1</td>\n",
              "      <td>89</td>\n",
              "      <td>66</td>\n",
              "      <td>23</td>\n",
              "      <td>94</td>\n",
              "      <td>28.1</td>\n",
              "      <td>0.167</td>\n",
              "      <td>21</td>\n",
              "      <td>0</td>\n",
              "    </tr>\n",
              "    <tr>\n",
              "      <th>4</th>\n",
              "      <td>0</td>\n",
              "      <td>137</td>\n",
              "      <td>40</td>\n",
              "      <td>35</td>\n",
              "      <td>168</td>\n",
              "      <td>43.1</td>\n",
              "      <td>2.288</td>\n",
              "      <td>33</td>\n",
              "      <td>1</td>\n",
              "    </tr>\n",
              "  </tbody>\n",
              "</table>\n",
              "</div>\n",
              "      <button class=\"colab-df-convert\" onclick=\"convertToInteractive('df-ab3a1ff3-85fd-4fca-a1e9-08b2d046b8f6')\"\n",
              "              title=\"Convert this dataframe to an interactive table.\"\n",
              "              style=\"display:none;\">\n",
              "        \n",
              "  <svg xmlns=\"http://www.w3.org/2000/svg\" height=\"24px\"viewBox=\"0 0 24 24\"\n",
              "       width=\"24px\">\n",
              "    <path d=\"M0 0h24v24H0V0z\" fill=\"none\"/>\n",
              "    <path d=\"M18.56 5.44l.94 2.06.94-2.06 2.06-.94-2.06-.94-.94-2.06-.94 2.06-2.06.94zm-11 1L8.5 8.5l.94-2.06 2.06-.94-2.06-.94L8.5 2.5l-.94 2.06-2.06.94zm10 10l.94 2.06.94-2.06 2.06-.94-2.06-.94-.94-2.06-.94 2.06-2.06.94z\"/><path d=\"M17.41 7.96l-1.37-1.37c-.4-.4-.92-.59-1.43-.59-.52 0-1.04.2-1.43.59L10.3 9.45l-7.72 7.72c-.78.78-.78 2.05 0 2.83L4 21.41c.39.39.9.59 1.41.59.51 0 1.02-.2 1.41-.59l7.78-7.78 2.81-2.81c.8-.78.8-2.07 0-2.86zM5.41 20L4 18.59l7.72-7.72 1.47 1.35L5.41 20z\"/>\n",
              "  </svg>\n",
              "      </button>\n",
              "      \n",
              "  <style>\n",
              "    .colab-df-container {\n",
              "      display:flex;\n",
              "      flex-wrap:wrap;\n",
              "      gap: 12px;\n",
              "    }\n",
              "\n",
              "    .colab-df-convert {\n",
              "      background-color: #E8F0FE;\n",
              "      border: none;\n",
              "      border-radius: 50%;\n",
              "      cursor: pointer;\n",
              "      display: none;\n",
              "      fill: #1967D2;\n",
              "      height: 32px;\n",
              "      padding: 0 0 0 0;\n",
              "      width: 32px;\n",
              "    }\n",
              "\n",
              "    .colab-df-convert:hover {\n",
              "      background-color: #E2EBFA;\n",
              "      box-shadow: 0px 1px 2px rgba(60, 64, 67, 0.3), 0px 1px 3px 1px rgba(60, 64, 67, 0.15);\n",
              "      fill: #174EA6;\n",
              "    }\n",
              "\n",
              "    [theme=dark] .colab-df-convert {\n",
              "      background-color: #3B4455;\n",
              "      fill: #D2E3FC;\n",
              "    }\n",
              "\n",
              "    [theme=dark] .colab-df-convert:hover {\n",
              "      background-color: #434B5C;\n",
              "      box-shadow: 0px 1px 3px 1px rgba(0, 0, 0, 0.15);\n",
              "      filter: drop-shadow(0px 1px 2px rgba(0, 0, 0, 0.3));\n",
              "      fill: #FFFFFF;\n",
              "    }\n",
              "  </style>\n",
              "\n",
              "      <script>\n",
              "        const buttonEl =\n",
              "          document.querySelector('#df-ab3a1ff3-85fd-4fca-a1e9-08b2d046b8f6 button.colab-df-convert');\n",
              "        buttonEl.style.display =\n",
              "          google.colab.kernel.accessAllowed ? 'block' : 'none';\n",
              "\n",
              "        async function convertToInteractive(key) {\n",
              "          const element = document.querySelector('#df-ab3a1ff3-85fd-4fca-a1e9-08b2d046b8f6');\n",
              "          const dataTable =\n",
              "            await google.colab.kernel.invokeFunction('convertToInteractive',\n",
              "                                                     [key], {});\n",
              "          if (!dataTable) return;\n",
              "\n",
              "          const docLinkHtml = 'Like what you see? Visit the ' +\n",
              "            '<a target=\"_blank\" href=https://colab.research.google.com/notebooks/data_table.ipynb>data table notebook</a>'\n",
              "            + ' to learn more about interactive tables.';\n",
              "          element.innerHTML = '';\n",
              "          dataTable['output_type'] = 'display_data';\n",
              "          await google.colab.output.renderOutput(dataTable, element);\n",
              "          const docLink = document.createElement('div');\n",
              "          docLink.innerHTML = docLinkHtml;\n",
              "          element.appendChild(docLink);\n",
              "        }\n",
              "      </script>\n",
              "    </div>\n",
              "  </div>\n",
              "  "
            ]
          },
          "metadata": {},
          "execution_count": 10
        }
      ]
    },
    {
      "cell_type": "code",
      "source": [
        "from sklearn.model_selection import train_test_split\n",
        "\n",
        "X_train, X_test, y_train, y_test = train_test_split(df.iloc[:,0:-1],df.iloc[:,-1],test_size=0.2,random_state=1)"
      ],
      "metadata": {
        "id": "UCoh2ZYZ_TMg"
      },
      "execution_count": 11,
      "outputs": []
    },
    {
      "cell_type": "code",
      "source": [
        "X_train.head()"
      ],
      "metadata": {
        "colab": {
          "base_uri": "https://localhost:8080/",
          "height": 206
        },
        "id": "iyEjQ1Er_Tsf",
        "outputId": "00c28db2-45bb-4a41-d5c5-e6ffc0751cc9"
      },
      "execution_count": 12,
      "outputs": [
        {
          "output_type": "execute_result",
          "data": {
            "text/plain": [
              "     Pregnancies  Glucose  BloodPressure  SkinThickness  Insulin   BMI  \\\n",
              "663            9      145             80             46      130  37.9   \n",
              "712           10      129             62             36        0  41.2   \n",
              "161            7      102             74             40      105  37.2   \n",
              "509            8      120             78              0        0  25.0   \n",
              "305            2      120             76             37      105  39.7   \n",
              "\n",
              "     DiabetesPedigreeFunction  Age  \n",
              "663                     0.637   40  \n",
              "712                     0.441   38  \n",
              "161                     0.204   45  \n",
              "509                     0.409   64  \n",
              "305                     0.215   29  "
            ],
            "text/html": [
              "\n",
              "  <div id=\"df-bf827da2-ad07-49f4-b95d-a2b6766d927e\">\n",
              "    <div class=\"colab-df-container\">\n",
              "      <div>\n",
              "<style scoped>\n",
              "    .dataframe tbody tr th:only-of-type {\n",
              "        vertical-align: middle;\n",
              "    }\n",
              "\n",
              "    .dataframe tbody tr th {\n",
              "        vertical-align: top;\n",
              "    }\n",
              "\n",
              "    .dataframe thead th {\n",
              "        text-align: right;\n",
              "    }\n",
              "</style>\n",
              "<table border=\"1\" class=\"dataframe\">\n",
              "  <thead>\n",
              "    <tr style=\"text-align: right;\">\n",
              "      <th></th>\n",
              "      <th>Pregnancies</th>\n",
              "      <th>Glucose</th>\n",
              "      <th>BloodPressure</th>\n",
              "      <th>SkinThickness</th>\n",
              "      <th>Insulin</th>\n",
              "      <th>BMI</th>\n",
              "      <th>DiabetesPedigreeFunction</th>\n",
              "      <th>Age</th>\n",
              "    </tr>\n",
              "  </thead>\n",
              "  <tbody>\n",
              "    <tr>\n",
              "      <th>663</th>\n",
              "      <td>9</td>\n",
              "      <td>145</td>\n",
              "      <td>80</td>\n",
              "      <td>46</td>\n",
              "      <td>130</td>\n",
              "      <td>37.9</td>\n",
              "      <td>0.637</td>\n",
              "      <td>40</td>\n",
              "    </tr>\n",
              "    <tr>\n",
              "      <th>712</th>\n",
              "      <td>10</td>\n",
              "      <td>129</td>\n",
              "      <td>62</td>\n",
              "      <td>36</td>\n",
              "      <td>0</td>\n",
              "      <td>41.2</td>\n",
              "      <td>0.441</td>\n",
              "      <td>38</td>\n",
              "    </tr>\n",
              "    <tr>\n",
              "      <th>161</th>\n",
              "      <td>7</td>\n",
              "      <td>102</td>\n",
              "      <td>74</td>\n",
              "      <td>40</td>\n",
              "      <td>105</td>\n",
              "      <td>37.2</td>\n",
              "      <td>0.204</td>\n",
              "      <td>45</td>\n",
              "    </tr>\n",
              "    <tr>\n",
              "      <th>509</th>\n",
              "      <td>8</td>\n",
              "      <td>120</td>\n",
              "      <td>78</td>\n",
              "      <td>0</td>\n",
              "      <td>0</td>\n",
              "      <td>25.0</td>\n",
              "      <td>0.409</td>\n",
              "      <td>64</td>\n",
              "    </tr>\n",
              "    <tr>\n",
              "      <th>305</th>\n",
              "      <td>2</td>\n",
              "      <td>120</td>\n",
              "      <td>76</td>\n",
              "      <td>37</td>\n",
              "      <td>105</td>\n",
              "      <td>39.7</td>\n",
              "      <td>0.215</td>\n",
              "      <td>29</td>\n",
              "    </tr>\n",
              "  </tbody>\n",
              "</table>\n",
              "</div>\n",
              "      <button class=\"colab-df-convert\" onclick=\"convertToInteractive('df-bf827da2-ad07-49f4-b95d-a2b6766d927e')\"\n",
              "              title=\"Convert this dataframe to an interactive table.\"\n",
              "              style=\"display:none;\">\n",
              "        \n",
              "  <svg xmlns=\"http://www.w3.org/2000/svg\" height=\"24px\"viewBox=\"0 0 24 24\"\n",
              "       width=\"24px\">\n",
              "    <path d=\"M0 0h24v24H0V0z\" fill=\"none\"/>\n",
              "    <path d=\"M18.56 5.44l.94 2.06.94-2.06 2.06-.94-2.06-.94-.94-2.06-.94 2.06-2.06.94zm-11 1L8.5 8.5l.94-2.06 2.06-.94-2.06-.94L8.5 2.5l-.94 2.06-2.06.94zm10 10l.94 2.06.94-2.06 2.06-.94-2.06-.94-.94-2.06-.94 2.06-2.06.94z\"/><path d=\"M17.41 7.96l-1.37-1.37c-.4-.4-.92-.59-1.43-.59-.52 0-1.04.2-1.43.59L10.3 9.45l-7.72 7.72c-.78.78-.78 2.05 0 2.83L4 21.41c.39.39.9.59 1.41.59.51 0 1.02-.2 1.41-.59l7.78-7.78 2.81-2.81c.8-.78.8-2.07 0-2.86zM5.41 20L4 18.59l7.72-7.72 1.47 1.35L5.41 20z\"/>\n",
              "  </svg>\n",
              "      </button>\n",
              "      \n",
              "  <style>\n",
              "    .colab-df-container {\n",
              "      display:flex;\n",
              "      flex-wrap:wrap;\n",
              "      gap: 12px;\n",
              "    }\n",
              "\n",
              "    .colab-df-convert {\n",
              "      background-color: #E8F0FE;\n",
              "      border: none;\n",
              "      border-radius: 50%;\n",
              "      cursor: pointer;\n",
              "      display: none;\n",
              "      fill: #1967D2;\n",
              "      height: 32px;\n",
              "      padding: 0 0 0 0;\n",
              "      width: 32px;\n",
              "    }\n",
              "\n",
              "    .colab-df-convert:hover {\n",
              "      background-color: #E2EBFA;\n",
              "      box-shadow: 0px 1px 2px rgba(60, 64, 67, 0.3), 0px 1px 3px 1px rgba(60, 64, 67, 0.15);\n",
              "      fill: #174EA6;\n",
              "    }\n",
              "\n",
              "    [theme=dark] .colab-df-convert {\n",
              "      background-color: #3B4455;\n",
              "      fill: #D2E3FC;\n",
              "    }\n",
              "\n",
              "    [theme=dark] .colab-df-convert:hover {\n",
              "      background-color: #434B5C;\n",
              "      box-shadow: 0px 1px 3px 1px rgba(0, 0, 0, 0.15);\n",
              "      filter: drop-shadow(0px 1px 2px rgba(0, 0, 0, 0.3));\n",
              "      fill: #FFFFFF;\n",
              "    }\n",
              "  </style>\n",
              "\n",
              "      <script>\n",
              "        const buttonEl =\n",
              "          document.querySelector('#df-bf827da2-ad07-49f4-b95d-a2b6766d927e button.colab-df-convert');\n",
              "        buttonEl.style.display =\n",
              "          google.colab.kernel.accessAllowed ? 'block' : 'none';\n",
              "\n",
              "        async function convertToInteractive(key) {\n",
              "          const element = document.querySelector('#df-bf827da2-ad07-49f4-b95d-a2b6766d927e');\n",
              "          const dataTable =\n",
              "            await google.colab.kernel.invokeFunction('convertToInteractive',\n",
              "                                                     [key], {});\n",
              "          if (!dataTable) return;\n",
              "\n",
              "          const docLinkHtml = 'Like what you see? Visit the ' +\n",
              "            '<a target=\"_blank\" href=https://colab.research.google.com/notebooks/data_table.ipynb>data table notebook</a>'\n",
              "            + ' to learn more about interactive tables.';\n",
              "          element.innerHTML = '';\n",
              "          dataTable['output_type'] = 'display_data';\n",
              "          await google.colab.output.renderOutput(dataTable, element);\n",
              "          const docLink = document.createElement('div');\n",
              "          docLink.innerHTML = docLinkHtml;\n",
              "          element.appendChild(docLink);\n",
              "        }\n",
              "      </script>\n",
              "    </div>\n",
              "  </div>\n",
              "  "
            ]
          },
          "metadata": {},
          "execution_count": 12
        }
      ]
    },
    {
      "cell_type": "code",
      "source": [
        "from pandas.core.common import random_state\n",
        "from sklearn.tree import DecisionTreeClassifier\n",
        "from sklearn.ensemble import RandomForestClassifier\n",
        "\n",
        "dt = DecisionTreeClassifier()\n",
        "rf = RandomForestClassifier()\n",
        "\n",
        "#dt.fit(X_train,y_train)\n",
        "rf.fit(X_train,y_train)"
      ],
      "metadata": {
        "colab": {
          "base_uri": "https://localhost:8080/",
          "height": 75
        },
        "id": "USs_MWEk_X-B",
        "outputId": "799cf7ec-5b50-4b1a-ee22-4fd2cc265591"
      },
      "execution_count": 13,
      "outputs": [
        {
          "output_type": "execute_result",
          "data": {
            "text/plain": [
              "RandomForestClassifier()"
            ],
            "text/html": [
              "<style>#sk-container-id-2 {color: black;background-color: white;}#sk-container-id-2 pre{padding: 0;}#sk-container-id-2 div.sk-toggleable {background-color: white;}#sk-container-id-2 label.sk-toggleable__label {cursor: pointer;display: block;width: 100%;margin-bottom: 0;padding: 0.3em;box-sizing: border-box;text-align: center;}#sk-container-id-2 label.sk-toggleable__label-arrow:before {content: \"▸\";float: left;margin-right: 0.25em;color: #696969;}#sk-container-id-2 label.sk-toggleable__label-arrow:hover:before {color: black;}#sk-container-id-2 div.sk-estimator:hover label.sk-toggleable__label-arrow:before {color: black;}#sk-container-id-2 div.sk-toggleable__content {max-height: 0;max-width: 0;overflow: hidden;text-align: left;background-color: #f0f8ff;}#sk-container-id-2 div.sk-toggleable__content pre {margin: 0.2em;color: black;border-radius: 0.25em;background-color: #f0f8ff;}#sk-container-id-2 input.sk-toggleable__control:checked~div.sk-toggleable__content {max-height: 200px;max-width: 100%;overflow: auto;}#sk-container-id-2 input.sk-toggleable__control:checked~label.sk-toggleable__label-arrow:before {content: \"▾\";}#sk-container-id-2 div.sk-estimator input.sk-toggleable__control:checked~label.sk-toggleable__label {background-color: #d4ebff;}#sk-container-id-2 div.sk-label input.sk-toggleable__control:checked~label.sk-toggleable__label {background-color: #d4ebff;}#sk-container-id-2 input.sk-hidden--visually {border: 0;clip: rect(1px 1px 1px 1px);clip: rect(1px, 1px, 1px, 1px);height: 1px;margin: -1px;overflow: hidden;padding: 0;position: absolute;width: 1px;}#sk-container-id-2 div.sk-estimator {font-family: monospace;background-color: #f0f8ff;border: 1px dotted black;border-radius: 0.25em;box-sizing: border-box;margin-bottom: 0.5em;}#sk-container-id-2 div.sk-estimator:hover {background-color: #d4ebff;}#sk-container-id-2 div.sk-parallel-item::after {content: \"\";width: 100%;border-bottom: 1px solid gray;flex-grow: 1;}#sk-container-id-2 div.sk-label:hover label.sk-toggleable__label {background-color: #d4ebff;}#sk-container-id-2 div.sk-serial::before {content: \"\";position: absolute;border-left: 1px solid gray;box-sizing: border-box;top: 0;bottom: 0;left: 50%;z-index: 0;}#sk-container-id-2 div.sk-serial {display: flex;flex-direction: column;align-items: center;background-color: white;padding-right: 0.2em;padding-left: 0.2em;position: relative;}#sk-container-id-2 div.sk-item {position: relative;z-index: 1;}#sk-container-id-2 div.sk-parallel {display: flex;align-items: stretch;justify-content: center;background-color: white;position: relative;}#sk-container-id-2 div.sk-item::before, #sk-container-id-2 div.sk-parallel-item::before {content: \"\";position: absolute;border-left: 1px solid gray;box-sizing: border-box;top: 0;bottom: 0;left: 50%;z-index: -1;}#sk-container-id-2 div.sk-parallel-item {display: flex;flex-direction: column;z-index: 1;position: relative;background-color: white;}#sk-container-id-2 div.sk-parallel-item:first-child::after {align-self: flex-end;width: 50%;}#sk-container-id-2 div.sk-parallel-item:last-child::after {align-self: flex-start;width: 50%;}#sk-container-id-2 div.sk-parallel-item:only-child::after {width: 0;}#sk-container-id-2 div.sk-dashed-wrapped {border: 1px dashed gray;margin: 0 0.4em 0.5em 0.4em;box-sizing: border-box;padding-bottom: 0.4em;background-color: white;}#sk-container-id-2 div.sk-label label {font-family: monospace;font-weight: bold;display: inline-block;line-height: 1.2em;}#sk-container-id-2 div.sk-label-container {text-align: center;}#sk-container-id-2 div.sk-container {/* jupyter's `normalize.less` sets `[hidden] { display: none; }` but bootstrap.min.css set `[hidden] { display: none !important; }` so we also need the `!important` here to be able to override the default hidden behavior on the sphinx rendered scikit-learn.org. See: https://github.com/scikit-learn/scikit-learn/issues/21755 */display: inline-block !important;position: relative;}#sk-container-id-2 div.sk-text-repr-fallback {display: none;}</style><div id=\"sk-container-id-2\" class=\"sk-top-container\"><div class=\"sk-text-repr-fallback\"><pre>RandomForestClassifier()</pre><b>In a Jupyter environment, please rerun this cell to show the HTML representation or trust the notebook. <br />On GitHub, the HTML representation is unable to render, please try loading this page with nbviewer.org.</b></div><div class=\"sk-container\" hidden><div class=\"sk-item\"><div class=\"sk-estimator sk-toggleable\"><input class=\"sk-toggleable__control sk-hidden--visually\" id=\"sk-estimator-id-2\" type=\"checkbox\" checked><label for=\"sk-estimator-id-2\" class=\"sk-toggleable__label sk-toggleable__label-arrow\">RandomForestClassifier</label><div class=\"sk-toggleable__content\"><pre>RandomForestClassifier()</pre></div></div></div></div></div>"
            ]
          },
          "metadata": {},
          "execution_count": 13
        }
      ]
    },
    {
      "cell_type": "code",
      "source": [
        "rf.feature_importances_"
      ],
      "metadata": {
        "colab": {
          "base_uri": "https://localhost:8080/"
        },
        "id": "G9WPAfiZ_kxw",
        "outputId": "8e20af58-ebec-411f-f899-c5bc2de750f2"
      },
      "execution_count": 14,
      "outputs": [
        {
          "output_type": "execute_result",
          "data": {
            "text/plain": [
              "array([0.08646253, 0.25947001, 0.08948223, 0.07005645, 0.08038883,\n",
              "       0.15600236, 0.13191418, 0.12622343])"
            ]
          },
          "metadata": {},
          "execution_count": 14
        }
      ]
    },
    {
      "cell_type": "code",
      "source": [
        "x = pd.Series(np.abs(rf.feature_importances_), index=cols)\n",
        "\n",
        "x.sort_values(ascending=False).plot(kind='bar')"
      ],
      "metadata": {
        "colab": {
          "base_uri": "https://localhost:8080/",
          "height": 614
        },
        "id": "f9I1qW77_qGY",
        "outputId": "d06bdd0c-f4c8-4a00-a0ed-579fcd9dbbf8"
      },
      "execution_count": 15,
      "outputs": [
        {
          "output_type": "execute_result",
          "data": {
            "text/plain": [
              "<Axes: >"
            ]
          },
          "metadata": {},
          "execution_count": 15
        },
        {
          "output_type": "display_data",
          "data": {
            "text/plain": [
              "<Figure size 640x480 with 1 Axes>"
            ],
            "image/png": "[encoded data removed]"
          },
          "metadata": {}
        }
      ]
    },
    {
      "cell_type": "code",
      "source": [],
      "metadata": {
        "id": "6l-wtjv3_z5z"
      },
      "execution_count": null,
      "outputs": []
    },
    {
      "cell_type": "markdown",
      "source": [
        "# SelectFromModel\n",
        "\n",
        "`class sklearn.feature_selection.SelectFromModel(estimator, *, threshold=None, )`\n",
        "\n",
        "\n",
        "https://scikit-learn.org/stable/modules/generated/sklearn.feature_selection.SelectFromModel.html\n",
        "\n",
        "Meta-transformer for selecting features based on importance weights."
      ],
      "metadata": {
        "id": "vFWoUXFvywFR"
      }
    },
    {
      "cell_type": "code",
      "source": [
        "from sklearn import datasets\n",
        "import pandas as pd\n",
        "\n",
        "df = pd.read_csv('https://raw.githubusercontent.com/npradaschnor/Pima-Indians-Diabetes-Dataset/master/diabetes.csv')\n",
        "\n",
        "from sklearn.model_selection import train_test_split\n",
        "\n",
        "X_train, X_test, y_train, y_test = train_test_split(df.iloc[:,0:-1],df.iloc[:,-1],test_size=0.2,random_state=1)"
      ],
      "metadata": {
        "id": "cWpQbAcRy0SD"
      },
      "execution_count": 16,
      "outputs": []
    },
    {
      "cell_type": "code",
      "source": [
        "from sklearn.tree import DecisionTreeClassifier\n",
        "\n",
        "model = DecisionTreeClassifier()"
      ],
      "metadata": {
        "id": "Hg7E4v0jy0bS"
      },
      "execution_count": 17,
      "outputs": []
    },
    {
      "cell_type": "code",
      "source": [
        "from sklearn.feature_selection import SelectFromModel\n",
        "\n",
        "sfm = SelectFromModel(model, threshold='mean')\n",
        "sfm1 = SelectFromModel(model, threshold=0.1)"
      ],
      "metadata": {
        "id": "jhd86UwKy0im"
      },
      "execution_count": 19,
      "outputs": []
    },
    {
      "cell_type": "code",
      "source": [
        "sfm.fit(X_train, y_train)"
      ],
      "metadata": {
        "colab": {
          "base_uri": "https://localhost:8080/",
          "height": 118
        },
        "id": "4IbviLY4y0qF",
        "outputId": "99d6445e-a875-47f3-92d7-5bc343519c78"
      },
      "execution_count": 20,
      "outputs": [
        {
          "output_type": "execute_result",
          "data": {
            "text/plain": [
              "SelectFromModel(estimator=DecisionTreeClassifier(), threshold='mean')"
            ],
            "text/html": [
              "<style>#sk-container-id-3 {color: black;background-color: white;}#sk-container-id-3 pre{padding: 0;}#sk-container-id-3 div.sk-toggleable {background-color: white;}#sk-container-id-3 label.sk-toggleable__label {cursor: pointer;display: block;width: 100%;margin-bottom: 0;padding: 0.3em;box-sizing: border-box;text-align: center;}#sk-container-id-3 label.sk-toggleable__label-arrow:before {content: \"▸\";float: left;margin-right: 0.25em;color: #696969;}#sk-container-id-3 label.sk-toggleable__label-arrow:hover:before {color: black;}#sk-container-id-3 div.sk-estimator:hover label.sk-toggleable__label-arrow:before {color: black;}#sk-container-id-3 div.sk-toggleable__content {max-height: 0;max-width: 0;overflow: hidden;text-align: left;background-color: #f0f8ff;}#sk-container-id-3 div.sk-toggleable__content pre {margin: 0.2em;color: black;border-radius: 0.25em;background-color: #f0f8ff;}#sk-container-id-3 input.sk-toggleable__control:checked~div.sk-toggleable__content {max-height: 200px;max-width: 100%;overflow: auto;}#sk-container-id-3 input.sk-toggleable__control:checked~label.sk-toggleable__label-arrow:before {content: \"▾\";}#sk-container-id-3 div.sk-estimator input.sk-toggleable__control:checked~label.sk-toggleable__label {background-color: #d4ebff;}#sk-container-id-3 div.sk-label input.sk-toggleable__control:checked~label.sk-toggleable__label {background-color: #d4ebff;}#sk-container-id-3 input.sk-hidden--visually {border: 0;clip: rect(1px 1px 1px 1px);clip: rect(1px, 1px, 1px, 1px);height: 1px;margin: -1px;overflow: hidden;padding: 0;position: absolute;width: 1px;}#sk-container-id-3 div.sk-estimator {font-family: monospace;background-color: #f0f8ff;border: 1px dotted black;border-radius: 0.25em;box-sizing: border-box;margin-bottom: 0.5em;}#sk-container-id-3 div.sk-estimator:hover {background-color: #d4ebff;}#sk-container-id-3 div.sk-parallel-item::after {content: \"\";width: 100%;border-bottom: 1px solid gray;flex-grow: 1;}#sk-container-id-3 div.sk-label:hover label.sk-toggleable__label {background-color: #d4ebff;}#sk-container-id-3 div.sk-serial::before {content: \"\";position: absolute;border-left: 1px solid gray;box-sizing: border-box;top: 0;bottom: 0;left: 50%;z-index: 0;}#sk-container-id-3 div.sk-serial {display: flex;flex-direction: column;align-items: center;background-color: white;padding-right: 0.2em;padding-left: 0.2em;position: relative;}#sk-container-id-3 div.sk-item {position: relative;z-index: 1;}#sk-container-id-3 div.sk-parallel {display: flex;align-items: stretch;justify-content: center;background-color: white;position: relative;}#sk-container-id-3 div.sk-item::before, #sk-container-id-3 div.sk-parallel-item::before {content: \"\";position: absolute;border-left: 1px solid gray;box-sizing: border-box;top: 0;bottom: 0;left: 50%;z-index: -1;}#sk-container-id-3 div.sk-parallel-item {display: flex;flex-direction: column;z-index: 1;position: relative;background-color: white;}#sk-container-id-3 div.sk-parallel-item:first-child::after {align-self: flex-end;width: 50%;}#sk-container-id-3 div.sk-parallel-item:last-child::after {align-self: flex-start;width: 50%;}#sk-container-id-3 div.sk-parallel-item:only-child::after {width: 0;}#sk-container-id-3 div.sk-dashed-wrapped {border: 1px dashed gray;margin: 0 0.4em 0.5em 0.4em;box-sizing: border-box;padding-bottom: 0.4em;background-color: white;}#sk-container-id-3 div.sk-label label {font-family: monospace;font-weight: bold;display: inline-block;line-height: 1.2em;}#sk-container-id-3 div.sk-label-container {text-align: center;}#sk-container-id-3 div.sk-container {/* jupyter's `normalize.less` sets `[hidden] { display: none; }` but bootstrap.min.css set `[hidden] { display: none !important; }` so we also need the `!important` here to be able to override the default hidden behavior on the sphinx rendered scikit-learn.org. See: https://github.com/scikit-learn/scikit-learn/issues/21755 */display: inline-block !important;position: relative;}#sk-container-id-3 div.sk-text-repr-fallback {display: none;}</style><div id=\"sk-container-id-3\" class=\"sk-top-container\"><div class=\"sk-text-repr-fallback\"><pre>SelectFromModel(estimator=DecisionTreeClassifier(), threshold=&#x27;mean&#x27;)</pre><b>In a Jupyter environment, please rerun this cell to show the HTML representation or trust the notebook. <br />On GitHub, the HTML representation is unable to render, please try loading this page with nbviewer.org.</b></div><div class=\"sk-container\" hidden><div class=\"sk-item sk-dashed-wrapped\"><div class=\"sk-label-container\"><div class=\"sk-label sk-toggleable\"><input class=\"sk-toggleable__control sk-hidden--visually\" id=\"sk-estimator-id-3\" type=\"checkbox\" ><label for=\"sk-estimator-id-3\" class=\"sk-toggleable__label sk-toggleable__label-arrow\">SelectFromModel</label><div class=\"sk-toggleable__content\"><pre>SelectFromModel(estimator=DecisionTreeClassifier(), threshold=&#x27;mean&#x27;)</pre></div></div></div><div class=\"sk-parallel\"><div class=\"sk-parallel-item\"><div class=\"sk-item\"><div class=\"sk-label-container\"><div class=\"sk-label sk-toggleable\"><input class=\"sk-toggleable__control sk-hidden--visually\" id=\"sk-estimator-id-4\" type=\"checkbox\" ><label for=\"sk-estimator-id-4\" class=\"sk-toggleable__label sk-toggleable__label-arrow\">estimator: DecisionTreeClassifier</label><div class=\"sk-toggleable__content\"><pre>DecisionTreeClassifier()</pre></div></div></div><div class=\"sk-serial\"><div class=\"sk-item\"><div class=\"sk-estimator sk-toggleable\"><input class=\"sk-toggleable__control sk-hidden--visually\" id=\"sk-estimator-id-5\" type=\"checkbox\" ><label for=\"sk-estimator-id-5\" class=\"sk-toggleable__label sk-toggleable__label-arrow\">DecisionTreeClassifier</label><div class=\"sk-toggleable__content\"><pre>DecisionTreeClassifier()</pre></div></div></div></div></div></div></div></div></div></div>"
            ]
          },
          "metadata": {},
          "execution_count": 20
        }
      ]
    },
    {
      "cell_type": "code",
      "source": [
        "sfm.get_support(indices=True)"
      ],
      "metadata": {
        "colab": {
          "base_uri": "https://localhost:8080/"
        },
        "id": "geGkpJmRz8kC",
        "outputId": "0a5ba5a7-a37b-4e56-da8c-2e931325e024"
      },
      "execution_count": 21,
      "outputs": [
        {
          "output_type": "execute_result",
          "data": {
            "text/plain": [
              "array([1, 5, 7])"
            ]
          },
          "metadata": {},
          "execution_count": 21
        }
      ]
    },
    {
      "cell_type": "code",
      "source": [
        "sfm.feature_names_in_[sfm.get_support(indices=True)]"
      ],
      "metadata": {
        "colab": {
          "base_uri": "https://localhost:8080/"
        },
        "id": "VLgw0tRuz8wG",
        "outputId": "5d5dadd9-4cdb-473f-ad82-d6885b22ab12"
      },
      "execution_count": 22,
      "outputs": [
        {
          "output_type": "execute_result",
          "data": {
            "text/plain": [
              "array(['Glucose', 'BMI', 'Age'], dtype=object)"
            ]
          },
          "metadata": {},
          "execution_count": 22
        }
      ]
    },
    {
      "cell_type": "code",
      "source": [
        "sfm1.fit(X_train, y_train)\n",
        "sfm1.get_support(indices=True)\n",
        "sfm1.feature_names_in_[sfm1.get_support(indices=True)]\n"
      ],
      "metadata": {
        "colab": {
          "base_uri": "https://localhost:8080/"
        },
        "id": "xi1q2BhyEj_Y",
        "outputId": "cf2fcba5-28ec-4456-f174-93dc05d75154"
      },
      "execution_count": 24,
      "outputs": [
        {
          "output_type": "execute_result",
          "data": {
            "text/plain": [
              "array(['Glucose', 'BloodPressure', 'BMI', 'DiabetesPedigreeFunction',\n",
              "       'Age'], dtype=object)"
            ]
          },
          "metadata": {},
          "execution_count": 24
        }
      ]
    },
    {
      "cell_type": "code",
      "source": [
        "X_train_trans = sfm.transform(X_train)\n",
        "\n",
        "X_train_trans = pd.DataFrame(X_train_trans,columns=sfm.feature_names_in_[sfm.get_support(indices=True)])\n",
        "\n",
        "X_train_trans"
      ],
      "metadata": {
        "colab": {
          "base_uri": "https://localhost:8080/",
          "height": 424
        },
        "id": "z4c-FNPEz87Y",
        "outputId": "e5f9e09b-4366-4f66-e345-35932bcb10ad"
      },
      "execution_count": 25,
      "outputs": [
        {
          "output_type": "execute_result",
          "data": {
            "text/plain": [
              "     Glucose   BMI   Age\n",
              "0      145.0  37.9  40.0\n",
              "1      129.0  41.2  38.0\n",
              "2      102.0  37.2  45.0\n",
              "3      120.0  25.0  64.0\n",
              "4      120.0  39.7  29.0\n",
              "..       ...   ...   ...\n",
              "609    157.0  39.4  30.0\n",
              "610    187.0  33.9  34.0\n",
              "611    126.0  43.4  42.0\n",
              "612    171.0  43.6  26.0\n",
              "613    102.0  32.9  46.0\n",
              "\n",
              "[614 rows x 3 columns]"
            ],
            "text/html": [
              "\n",
              "  <div id=\"df-97682733-f562-4be8-adf1-be9af2148cc7\">\n",
              "    <div class=\"colab-df-container\">\n",
              "      <div>\n",
              "<style scoped>\n",
              "    .dataframe tbody tr th:only-of-type {\n",
              "        vertical-align: middle;\n",
              "    }\n",
              "\n",
              "    .dataframe tbody tr th {\n",
              "        vertical-align: top;\n",
              "    }\n",
              "\n",
              "    .dataframe thead th {\n",
              "        text-align: right;\n",
              "    }\n",
              "</style>\n",
              "<table border=\"1\" class=\"dataframe\">\n",
              "  <thead>\n",
              "    <tr style=\"text-align: right;\">\n",
              "      <th></th>\n",
              "      <th>Glucose</th>\n",
              "      <th>BMI</th>\n",
              "      <th>Age</th>\n",
              "    </tr>\n",
              "  </thead>\n",
              "  <tbody>\n",
              "    <tr>\n",
              "      <th>0</th>\n",
              "      <td>145.0</td>\n",
              "      <td>37.9</td>\n",
              "      <td>40.0</td>\n",
              "    </tr>\n",
              "    <tr>\n",
              "      <th>1</th>\n",
              "      <td>129.0</td>\n",
              "      <td>41.2</td>\n",
              "      <td>38.0</td>\n",
              "    </tr>\n",
              "    <tr>\n",
              "      <th>2</th>\n",
              "      <td>102.0</td>\n",
              "      <td>37.2</td>\n",
              "      <td>45.0</td>\n",
              "    </tr>\n",
              "    <tr>\n",
              "      <th>3</th>\n",
              "      <td>120.0</td>\n",
              "      <td>25.0</td>\n",
              "      <td>64.0</td>\n",
              "    </tr>\n",
              "    <tr>\n",
              "      <th>4</th>\n",
              "      <td>120.0</td>\n",
              "      <td>39.7</td>\n",
              "      <td>29.0</td>\n",
              "    </tr>\n",
              "    <tr>\n",
              "      <th>...</th>\n",
              "      <td>...</td>\n",
              "      <td>...</td>\n",
              "      <td>...</td>\n",
              "    </tr>\n",
              "    <tr>\n",
              "      <th>609</th>\n",
              "      <td>157.0</td>\n",
              "      <td>39.4</td>\n",
              "      <td>30.0</td>\n",
              "    </tr>\n",
              "    <tr>\n",
              "      <th>610</th>\n",
              "      <td>187.0</td>\n",
              "      <td>33.9</td>\n",
              "      <td>34.0</td>\n",
              "    </tr>\n",
              "    <tr>\n",
              "      <th>611</th>\n",
              "      <td>126.0</td>\n",
              "      <td>43.4</td>\n",
              "      <td>42.0</td>\n",
              "    </tr>\n",
              "    <tr>\n",
              "      <th>612</th>\n",
              "      <td>171.0</td>\n",
              "      <td>43.6</td>\n",
              "      <td>26.0</td>\n",
              "    </tr>\n",
              "    <tr>\n",
              "      <th>613</th>\n",
              "      <td>102.0</td>\n",
              "      <td>32.9</td>\n",
              "      <td>46.0</td>\n",
              "    </tr>\n",
              "  </tbody>\n",
              "</table>\n",
              "<p>614 rows × 3 columns</p>\n",
              "</div>\n",
              "      <button class=\"colab-df-convert\" onclick=\"convertToInteractive('df-97682733-f562-4be8-adf1-be9af2148cc7')\"\n",
              "              title=\"Convert this dataframe to an interactive table.\"\n",
              "              style=\"display:none;\">\n",
              "        \n",
              "  <svg xmlns=\"http://www.w3.org/2000/svg\" height=\"24px\"viewBox=\"0 0 24 24\"\n",
              "       width=\"24px\">\n",
              "    <path d=\"M0 0h24v24H0V0z\" fill=\"none\"/>\n",
              "    <path d=\"M18.56 5.44l.94 2.06.94-2.06 2.06-.94-2.06-.94-.94-2.06-.94 2.06-2.06.94zm-11 1L8.5 8.5l.94-2.06 2.06-.94-2.06-.94L8.5 2.5l-.94 2.06-2.06.94zm10 10l.94 2.06.94-2.06 2.06-.94-2.06-.94-.94-2.06-.94 2.06-2.06.94z\"/><path d=\"M17.41 7.96l-1.37-1.37c-.4-.4-.92-.59-1.43-.59-.52 0-1.04.2-1.43.59L10.3 9.45l-7.72 7.72c-.78.78-.78 2.05 0 2.83L4 21.41c.39.39.9.59 1.41.59.51 0 1.02-.2 1.41-.59l7.78-7.78 2.81-2.81c.8-.78.8-2.07 0-2.86zM5.41 20L4 18.59l7.72-7.72 1.47 1.35L5.41 20z\"/>\n",
              "  </svg>\n",
              "      </button>\n",
              "      \n",
              "  <style>\n",
              "    .colab-df-container {\n",
              "      display:flex;\n",
              "      flex-wrap:wrap;\n",
              "      gap: 12px;\n",
              "    }\n",
              "\n",
              "    .colab-df-convert {\n",
              "      background-color: #E8F0FE;\n",
              "      border: none;\n",
              "      border-radius: 50%;\n",
              "      cursor: pointer;\n",
              "      display: none;\n",
              "      fill: #1967D2;\n",
              "      height: 32px;\n",
              "      padding: 0 0 0 0;\n",
              "      width: 32px;\n",
              "    }\n",
              "\n",
              "    .colab-df-convert:hover {\n",
              "      background-color: #E2EBFA;\n",
              "      box-shadow: 0px 1px 2px rgba(60, 64, 67, 0.3), 0px 1px 3px 1px rgba(60, 64, 67, 0.15);\n",
              "      fill: #174EA6;\n",
              "    }\n",
              "\n",
              "    [theme=dark] .colab-df-convert {\n",
              "      background-color: #3B4455;\n",
              "      fill: #D2E3FC;\n",
              "    }\n",
              "\n",
              "    [theme=dark] .colab-df-convert:hover {\n",
              "      background-color: #434B5C;\n",
              "      box-shadow: 0px 1px 3px 1px rgba(0, 0, 0, 0.15);\n",
              "      filter: drop-shadow(0px 1px 2px rgba(0, 0, 0, 0.3));\n",
              "      fill: #FFFFFF;\n",
              "    }\n",
              "  </style>\n",
              "\n",
              "      <script>\n",
              "        const buttonEl =\n",
              "          document.querySelector('#df-97682733-f562-4be8-adf1-be9af2148cc7 button.colab-df-convert');\n",
              "        buttonEl.style.display =\n",
              "          google.colab.kernel.accessAllowed ? 'block' : 'none';\n",
              "\n",
              "        async function convertToInteractive(key) {\n",
              "          const element = document.querySelector('#df-97682733-f562-4be8-adf1-be9af2148cc7');\n",
              "          const dataTable =\n",
              "            await google.colab.kernel.invokeFunction('convertToInteractive',\n",
              "                                                     [key], {});\n",
              "          if (!dataTable) return;\n",
              "\n",
              "          const docLinkHtml = 'Like what you see? Visit the ' +\n",
              "            '<a target=\"_blank\" href=https://colab.research.google.com/notebooks/data_table.ipynb>data table notebook</a>'\n",
              "            + ' to learn more about interactive tables.';\n",
              "          element.innerHTML = '';\n",
              "          dataTable['output_type'] = 'display_data';\n",
              "          await google.colab.output.renderOutput(dataTable, element);\n",
              "          const docLink = document.createElement('div');\n",
              "          docLink.innerHTML = docLinkHtml;\n",
              "          element.appendChild(docLink);\n",
              "        }\n",
              "      </script>\n",
              "    </div>\n",
              "  </div>\n",
              "  "
            ]
          },
          "metadata": {},
          "execution_count": 25
        }
      ]
    },
    {
      "cell_type": "code",
      "source": [],
      "metadata": {
        "id": "fgPWeQC9E8qS"
      },
      "execution_count": null,
      "outputs": []
    },
    {
      "cell_type": "markdown",
      "source": [
        "# Recursive Feature Selection\n",
        "\n",
        "Given an external estimator that assigns weights to features (e.g., the coefficients of a linear model), The goal of recursive feature elimination (RFE) is to select features by recursively considering smaller and smaller sets of features. \n",
        "\n",
        "First, the estimator is trained on the initial set of features, and each feature’s importance is obtained either through a coef_ attribute or a feature_importances_  attribute.\n",
        "\n",
        "Then, the least important features are pruned from the current set of features. That procedure is recursively repeated on the pruned set until the desired number of features to select is eventually reached.\n",
        "\n",
        "`class sklearn.feature_selection.RFE(estimator, *, n_features_to_select=None, step=1, verbose=0, importance_getter='auto')`\n",
        "\n",
        "N_features_to_select: int or float, default=None\n",
        "\n",
        "The number of features to select. If None, half of the features are selected. If integer, the parameter is the absolute number of features to select. If float between 0 and 1, it is the percentage of features to select.\n"
      ],
      "metadata": {
        "id": "BizjsWsvy1lc"
      }
    },
    {
      "cell_type": "code",
      "source": [
        "import pandas as pd\n",
        "import numpy as np"
      ],
      "metadata": {
        "id": "bbnXJ1m-uAE0"
      },
      "execution_count": 26,
      "outputs": []
    },
    {
      "cell_type": "code",
      "source": [
        "df = pd.read_csv('https://gist.githubusercontent.com/curran/a08a1080b88344b0c8a7/raw/0e7a9b0a5d22642a06d3d5b9bcbad9890c8ee534/iris.csv')\n",
        "df.head()"
      ],
      "metadata": {
        "colab": {
          "base_uri": "https://localhost:8080/",
          "height": 206
        },
        "id": "vGKv7B13uNky",
        "outputId": "8df1c022-1467-4c48-f911-6290f248f1d7"
      },
      "execution_count": 27,
      "outputs": [
        {
          "output_type": "execute_result",
          "data": {
            "text/plain": [
              "   sepal_length  sepal_width  petal_length  petal_width species\n",
              "0           5.1          3.5           1.4          0.2  setosa\n",
              "1           4.9          3.0           1.4          0.2  setosa\n",
              "2           4.7          3.2           1.3          0.2  setosa\n",
              "3           4.6          3.1           1.5          0.2  setosa\n",
              "4           5.0          3.6           1.4          0.2  setosa"
            ],
            "text/html": [
              "\n",
              "  <div id=\"df-63018409-26a4-4e43-80be-78ea58c3fb32\">\n",
              "    <div class=\"colab-df-container\">\n",
              "      <div>\n",
              "<style scoped>\n",
              "    .dataframe tbody tr th:only-of-type {\n",
              "        vertical-align: middle;\n",
              "    }\n",
              "\n",
              "    .dataframe tbody tr th {\n",
              "        vertical-align: top;\n",
              "    }\n",
              "\n",
              "    .dataframe thead th {\n",
              "        text-align: right;\n",
              "    }\n",
              "</style>\n",
              "<table border=\"1\" class=\"dataframe\">\n",
              "  <thead>\n",
              "    <tr style=\"text-align: right;\">\n",
              "      <th></th>\n",
              "      <th>sepal_length</th>\n",
              "      <th>sepal_width</th>\n",
              "      <th>petal_length</th>\n",
              "      <th>petal_width</th>\n",
              "      <th>species</th>\n",
              "    </tr>\n",
              "  </thead>\n",
              "  <tbody>\n",
              "    <tr>\n",
              "      <th>0</th>\n",
              "      <td>5.1</td>\n",
              "      <td>3.5</td>\n",
              "      <td>1.4</td>\n",
              "      <td>0.2</td>\n",
              "      <td>setosa</td>\n",
              "    </tr>\n",
              "    <tr>\n",
              "      <th>1</th>\n",
              "      <td>4.9</td>\n",
              "      <td>3.0</td>\n",
              "      <td>1.4</td>\n",
              "      <td>0.2</td>\n",
              "      <td>setosa</td>\n",
              "    </tr>\n",
              "    <tr>\n",
              "      <th>2</th>\n",
              "      <td>4.7</td>\n",
              "      <td>3.2</td>\n",
              "      <td>1.3</td>\n",
              "      <td>0.2</td>\n",
              "      <td>setosa</td>\n",
              "    </tr>\n",
              "    <tr>\n",
              "      <th>3</th>\n",
              "      <td>4.6</td>\n",
              "      <td>3.1</td>\n",
              "      <td>1.5</td>\n",
              "      <td>0.2</td>\n",
              "      <td>setosa</td>\n",
              "    </tr>\n",
              "    <tr>\n",
              "      <th>4</th>\n",
              "      <td>5.0</td>\n",
              "      <td>3.6</td>\n",
              "      <td>1.4</td>\n",
              "      <td>0.2</td>\n",
              "      <td>setosa</td>\n",
              "    </tr>\n",
              "  </tbody>\n",
              "</table>\n",
              "</div>\n",
              "      <button class=\"colab-df-convert\" onclick=\"convertToInteractive('df-63018409-26a4-4e43-80be-78ea58c3fb32')\"\n",
              "              title=\"Convert this dataframe to an interactive table.\"\n",
              "              style=\"display:none;\">\n",
              "        \n",
              "  <svg xmlns=\"http://www.w3.org/2000/svg\" height=\"24px\"viewBox=\"0 0 24 24\"\n",
              "       width=\"24px\">\n",
              "    <path d=\"M0 0h24v24H0V0z\" fill=\"none\"/>\n",
              "    <path d=\"M18.56 5.44l.94 2.06.94-2.06 2.06-.94-2.06-.94-.94-2.06-.94 2.06-2.06.94zm-11 1L8.5 8.5l.94-2.06 2.06-.94-2.06-.94L8.5 2.5l-.94 2.06-2.06.94zm10 10l.94 2.06.94-2.06 2.06-.94-2.06-.94-.94-2.06-.94 2.06-2.06.94z\"/><path d=\"M17.41 7.96l-1.37-1.37c-.4-.4-.92-.59-1.43-.59-.52 0-1.04.2-1.43.59L10.3 9.45l-7.72 7.72c-.78.78-.78 2.05 0 2.83L4 21.41c.39.39.9.59 1.41.59.51 0 1.02-.2 1.41-.59l7.78-7.78 2.81-2.81c.8-.78.8-2.07 0-2.86zM5.41 20L4 18.59l7.72-7.72 1.47 1.35L5.41 20z\"/>\n",
              "  </svg>\n",
              "      </button>\n",
              "      \n",
              "  <style>\n",
              "    .colab-df-container {\n",
              "      display:flex;\n",
              "      flex-wrap:wrap;\n",
              "      gap: 12px;\n",
              "    }\n",
              "\n",
              "    .colab-df-convert {\n",
              "      background-color: #E8F0FE;\n",
              "      border: none;\n",
              "      border-radius: 50%;\n",
              "      cursor: pointer;\n",
              "      display: none;\n",
              "      fill: #1967D2;\n",
              "      height: 32px;\n",
              "      padding: 0 0 0 0;\n",
              "      width: 32px;\n",
              "    }\n",
              "\n",
              "    .colab-df-convert:hover {\n",
              "      background-color: #E2EBFA;\n",
              "      box-shadow: 0px 1px 2px rgba(60, 64, 67, 0.3), 0px 1px 3px 1px rgba(60, 64, 67, 0.15);\n",
              "      fill: #174EA6;\n",
              "    }\n",
              "\n",
              "    [theme=dark] .colab-df-convert {\n",
              "      background-color: #3B4455;\n",
              "      fill: #D2E3FC;\n",
              "    }\n",
              "\n",
              "    [theme=dark] .colab-df-convert:hover {\n",
              "      background-color: #434B5C;\n",
              "      box-shadow: 0px 1px 3px 1px rgba(0, 0, 0, 0.15);\n",
              "      filter: drop-shadow(0px 1px 2px rgba(0, 0, 0, 0.3));\n",
              "      fill: #FFFFFF;\n",
              "    }\n",
              "  </style>\n",
              "\n",
              "      <script>\n",
              "        const buttonEl =\n",
              "          document.querySelector('#df-63018409-26a4-4e43-80be-78ea58c3fb32 button.colab-df-convert');\n",
              "        buttonEl.style.display =\n",
              "          google.colab.kernel.accessAllowed ? 'block' : 'none';\n",
              "\n",
              "        async function convertToInteractive(key) {\n",
              "          const element = document.querySelector('#df-63018409-26a4-4e43-80be-78ea58c3fb32');\n",
              "          const dataTable =\n",
              "            await google.colab.kernel.invokeFunction('convertToInteractive',\n",
              "                                                     [key], {});\n",
              "          if (!dataTable) return;\n",
              "\n",
              "          const docLinkHtml = 'Like what you see? Visit the ' +\n",
              "            '<a target=\"_blank\" href=https://colab.research.google.com/notebooks/data_table.ipynb>data table notebook</a>'\n",
              "            + ' to learn more about interactive tables.';\n",
              "          element.innerHTML = '';\n",
              "          dataTable['output_type'] = 'display_data';\n",
              "          await google.colab.output.renderOutput(dataTable, element);\n",
              "          const docLink = document.createElement('div');\n",
              "          docLink.innerHTML = docLinkHtml;\n",
              "          element.appendChild(docLink);\n",
              "        }\n",
              "      </script>\n",
              "    </div>\n",
              "  </div>\n",
              "  "
            ]
          },
          "metadata": {},
          "execution_count": 27
        }
      ]
    },
    {
      "cell_type": "code",
      "source": [
        "X = df.iloc[:,0:-1]\n",
        "y = df.iloc[:,-1]"
      ],
      "metadata": {
        "id": "ciJeiRhKuRH-"
      },
      "execution_count": 28,
      "outputs": []
    },
    {
      "cell_type": "code",
      "source": [
        "X.head()"
      ],
      "metadata": {
        "colab": {
          "base_uri": "https://localhost:8080/",
          "height": 206
        },
        "id": "XWwFbV1NuaQe",
        "outputId": "ae72de23-00ae-48ab-ee80-b39c89554d82"
      },
      "execution_count": 29,
      "outputs": [
        {
          "output_type": "execute_result",
          "data": {
            "text/plain": [
              "   sepal_length  sepal_width  petal_length  petal_width\n",
              "0           5.1          3.5           1.4          0.2\n",
              "1           4.9          3.0           1.4          0.2\n",
              "2           4.7          3.2           1.3          0.2\n",
              "3           4.6          3.1           1.5          0.2\n",
              "4           5.0          3.6           1.4          0.2"
            ],
            "text/html": [
              "\n",
              "  <div id=\"df-89f01fb5-95a3-428a-b5a7-1252122a73b6\">\n",
              "    <div class=\"colab-df-container\">\n",
              "      <div>\n",
              "<style scoped>\n",
              "    .dataframe tbody tr th:only-of-type {\n",
              "        vertical-align: middle;\n",
              "    }\n",
              "\n",
              "    .dataframe tbody tr th {\n",
              "        vertical-align: top;\n",
              "    }\n",
              "\n",
              "    .dataframe thead th {\n",
              "        text-align: right;\n",
              "    }\n",
              "</style>\n",
              "<table border=\"1\" class=\"dataframe\">\n",
              "  <thead>\n",
              "    <tr style=\"text-align: right;\">\n",
              "      <th></th>\n",
              "      <th>sepal_length</th>\n",
              "      <th>sepal_width</th>\n",
              "      <th>petal_length</th>\n",
              "      <th>petal_width</th>\n",
              "    </tr>\n",
              "  </thead>\n",
              "  <tbody>\n",
              "    <tr>\n",
              "      <th>0</th>\n",
              "      <td>5.1</td>\n",
              "      <td>3.5</td>\n",
              "      <td>1.4</td>\n",
              "      <td>0.2</td>\n",
              "    </tr>\n",
              "    <tr>\n",
              "      <th>1</th>\n",
              "      <td>4.9</td>\n",
              "      <td>3.0</td>\n",
              "      <td>1.4</td>\n",
              "      <td>0.2</td>\n",
              "    </tr>\n",
              "    <tr>\n",
              "      <th>2</th>\n",
              "      <td>4.7</td>\n",
              "      <td>3.2</td>\n",
              "      <td>1.3</td>\n",
              "      <td>0.2</td>\n",
              "    </tr>\n",
              "    <tr>\n",
              "      <th>3</th>\n",
              "      <td>4.6</td>\n",
              "      <td>3.1</td>\n",
              "      <td>1.5</td>\n",
              "      <td>0.2</td>\n",
              "    </tr>\n",
              "    <tr>\n",
              "      <th>4</th>\n",
              "      <td>5.0</td>\n",
              "      <td>3.6</td>\n",
              "      <td>1.4</td>\n",
              "      <td>0.2</td>\n",
              "    </tr>\n",
              "  </tbody>\n",
              "</table>\n",
              "</div>\n",
              "      <button class=\"colab-df-convert\" onclick=\"convertToInteractive('df-89f01fb5-95a3-428a-b5a7-1252122a73b6')\"\n",
              "              title=\"Convert this dataframe to an interactive table.\"\n",
              "              style=\"display:none;\">\n",
              "        \n",
              "  <svg xmlns=\"http://www.w3.org/2000/svg\" height=\"24px\"viewBox=\"0 0 24 24\"\n",
              "       width=\"24px\">\n",
              "    <path d=\"M0 0h24v24H0V0z\" fill=\"none\"/>\n",
              "    <path d=\"M18.56 5.44l.94 2.06.94-2.06 2.06-.94-2.06-.94-.94-2.06-.94 2.06-2.06.94zm-11 1L8.5 8.5l.94-2.06 2.06-.94-2.06-.94L8.5 2.5l-.94 2.06-2.06.94zm10 10l.94 2.06.94-2.06 2.06-.94-2.06-.94-.94-2.06-.94 2.06-2.06.94z\"/><path d=\"M17.41 7.96l-1.37-1.37c-.4-.4-.92-.59-1.43-.59-.52 0-1.04.2-1.43.59L10.3 9.45l-7.72 7.72c-.78.78-.78 2.05 0 2.83L4 21.41c.39.39.9.59 1.41.59.51 0 1.02-.2 1.41-.59l7.78-7.78 2.81-2.81c.8-.78.8-2.07 0-2.86zM5.41 20L4 18.59l7.72-7.72 1.47 1.35L5.41 20z\"/>\n",
              "  </svg>\n",
              "      </button>\n",
              "      \n",
              "  <style>\n",
              "    .colab-df-container {\n",
              "      display:flex;\n",
              "      flex-wrap:wrap;\n",
              "      gap: 12px;\n",
              "    }\n",
              "\n",
              "    .colab-df-convert {\n",
              "      background-color: #E8F0FE;\n",
              "      border: none;\n",
              "      border-radius: 50%;\n",
              "      cursor: pointer;\n",
              "      display: none;\n",
              "      fill: #1967D2;\n",
              "      height: 32px;\n",
              "      padding: 0 0 0 0;\n",
              "      width: 32px;\n",
              "    }\n",
              "\n",
              "    .colab-df-convert:hover {\n",
              "      background-color: #E2EBFA;\n",
              "      box-shadow: 0px 1px 2px rgba(60, 64, 67, 0.3), 0px 1px 3px 1px rgba(60, 64, 67, 0.15);\n",
              "      fill: #174EA6;\n",
              "    }\n",
              "\n",
              "    [theme=dark] .colab-df-convert {\n",
              "      background-color: #3B4455;\n",
              "      fill: #D2E3FC;\n",
              "    }\n",
              "\n",
              "    [theme=dark] .colab-df-convert:hover {\n",
              "      background-color: #434B5C;\n",
              "      box-shadow: 0px 1px 3px 1px rgba(0, 0, 0, 0.15);\n",
              "      filter: drop-shadow(0px 1px 2px rgba(0, 0, 0, 0.3));\n",
              "      fill: #FFFFFF;\n",
              "    }\n",
              "  </style>\n",
              "\n",
              "      <script>\n",
              "        const buttonEl =\n",
              "          document.querySelector('#df-89f01fb5-95a3-428a-b5a7-1252122a73b6 button.colab-df-convert');\n",
              "        buttonEl.style.display =\n",
              "          google.colab.kernel.accessAllowed ? 'block' : 'none';\n",
              "\n",
              "        async function convertToInteractive(key) {\n",
              "          const element = document.querySelector('#df-89f01fb5-95a3-428a-b5a7-1252122a73b6');\n",
              "          const dataTable =\n",
              "            await google.colab.kernel.invokeFunction('convertToInteractive',\n",
              "                                                     [key], {});\n",
              "          if (!dataTable) return;\n",
              "\n",
              "          const docLinkHtml = 'Like what you see? Visit the ' +\n",
              "            '<a target=\"_blank\" href=https://colab.research.google.com/notebooks/data_table.ipynb>data table notebook</a>'\n",
              "            + ' to learn more about interactive tables.';\n",
              "          element.innerHTML = '';\n",
              "          dataTable['output_type'] = 'display_data';\n",
              "          await google.colab.output.renderOutput(dataTable, element);\n",
              "          const docLink = document.createElement('div');\n",
              "          docLink.innerHTML = docLinkHtml;\n",
              "          element.appendChild(docLink);\n",
              "        }\n",
              "      </script>\n",
              "    </div>\n",
              "  </div>\n",
              "  "
            ]
          },
          "metadata": {},
          "execution_count": 29
        }
      ]
    },
    {
      "cell_type": "code",
      "source": [
        "from sklearn.ensemble import RandomForestClassifier\n",
        "\n",
        "rf = RandomForestClassifier()\n",
        "\n",
        "rf.fit(X,y)"
      ],
      "metadata": {
        "colab": {
          "base_uri": "https://localhost:8080/",
          "height": 75
        },
        "id": "Og-srf0EubnW",
        "outputId": "0e98dbf7-3ff6-4e80-ac00-1b39ec8164eb"
      },
      "execution_count": 30,
      "outputs": [
        {
          "output_type": "execute_result",
          "data": {
            "text/plain": [
              "RandomForestClassifier()"
            ],
            "text/html": [
              "<style>#sk-container-id-4 {color: black;background-color: white;}#sk-container-id-4 pre{padding: 0;}#sk-container-id-4 div.sk-toggleable {background-color: white;}#sk-container-id-4 label.sk-toggleable__label {cursor: pointer;display: block;width: 100%;margin-bottom: 0;padding: 0.3em;box-sizing: border-box;text-align: center;}#sk-container-id-4 label.sk-toggleable__label-arrow:before {content: \"▸\";float: left;margin-right: 0.25em;color: #696969;}#sk-container-id-4 label.sk-toggleable__label-arrow:hover:before {color: black;}#sk-container-id-4 div.sk-estimator:hover label.sk-toggleable__label-arrow:before {color: black;}#sk-container-id-4 div.sk-toggleable__content {max-height: 0;max-width: 0;overflow: hidden;text-align: left;background-color: #f0f8ff;}#sk-container-id-4 div.sk-toggleable__content pre {margin: 0.2em;color: black;border-radius: 0.25em;background-color: #f0f8ff;}#sk-container-id-4 input.sk-toggleable__control:checked~div.sk-toggleable__content {max-height: 200px;max-width: 100%;overflow: auto;}#sk-container-id-4 input.sk-toggleable__control:checked~label.sk-toggleable__label-arrow:before {content: \"▾\";}#sk-container-id-4 div.sk-estimator input.sk-toggleable__control:checked~label.sk-toggleable__label {background-color: #d4ebff;}#sk-container-id-4 div.sk-label input.sk-toggleable__control:checked~label.sk-toggleable__label {background-color: #d4ebff;}#sk-container-id-4 input.sk-hidden--visually {border: 0;clip: rect(1px 1px 1px 1px);clip: rect(1px, 1px, 1px, 1px);height: 1px;margin: -1px;overflow: hidden;padding: 0;position: absolute;width: 1px;}#sk-container-id-4 div.sk-estimator {font-family: monospace;background-color: #f0f8ff;border: 1px dotted black;border-radius: 0.25em;box-sizing: border-box;margin-bottom: 0.5em;}#sk-container-id-4 div.sk-estimator:hover {background-color: #d4ebff;}#sk-container-id-4 div.sk-parallel-item::after {content: \"\";width: 100%;border-bottom: 1px solid gray;flex-grow: 1;}#sk-container-id-4 div.sk-label:hover label.sk-toggleable__label {background-color: #d4ebff;}#sk-container-id-4 div.sk-serial::before {content: \"\";position: absolute;border-left: 1px solid gray;box-sizing: border-box;top: 0;bottom: 0;left: 50%;z-index: 0;}#sk-container-id-4 div.sk-serial {display: flex;flex-direction: column;align-items: center;background-color: white;padding-right: 0.2em;padding-left: 0.2em;position: relative;}#sk-container-id-4 div.sk-item {position: relative;z-index: 1;}#sk-container-id-4 div.sk-parallel {display: flex;align-items: stretch;justify-content: center;background-color: white;position: relative;}#sk-container-id-4 div.sk-item::before, #sk-container-id-4 div.sk-parallel-item::before {content: \"\";position: absolute;border-left: 1px solid gray;box-sizing: border-box;top: 0;bottom: 0;left: 50%;z-index: -1;}#sk-container-id-4 div.sk-parallel-item {display: flex;flex-direction: column;z-index: 1;position: relative;background-color: white;}#sk-container-id-4 div.sk-parallel-item:first-child::after {align-self: flex-end;width: 50%;}#sk-container-id-4 div.sk-parallel-item:last-child::after {align-self: flex-start;width: 50%;}#sk-container-id-4 div.sk-parallel-item:only-child::after {width: 0;}#sk-container-id-4 div.sk-dashed-wrapped {border: 1px dashed gray;margin: 0 0.4em 0.5em 0.4em;box-sizing: border-box;padding-bottom: 0.4em;background-color: white;}#sk-container-id-4 div.sk-label label {font-family: monospace;font-weight: bold;display: inline-block;line-height: 1.2em;}#sk-container-id-4 div.sk-label-container {text-align: center;}#sk-container-id-4 div.sk-container {/* jupyter's `normalize.less` sets `[hidden] { display: none; }` but bootstrap.min.css set `[hidden] { display: none !important; }` so we also need the `!important` here to be able to override the default hidden behavior on the sphinx rendered scikit-learn.org. See: https://github.com/scikit-learn/scikit-learn/issues/21755 */display: inline-block !important;position: relative;}#sk-container-id-4 div.sk-text-repr-fallback {display: none;}</style><div id=\"sk-container-id-4\" class=\"sk-top-container\"><div class=\"sk-text-repr-fallback\"><pre>RandomForestClassifier()</pre><b>In a Jupyter environment, please rerun this cell to show the HTML representation or trust the notebook. <br />On GitHub, the HTML representation is unable to render, please try loading this page with nbviewer.org.</b></div><div class=\"sk-container\" hidden><div class=\"sk-item\"><div class=\"sk-estimator sk-toggleable\"><input class=\"sk-toggleable__control sk-hidden--visually\" id=\"sk-estimator-id-6\" type=\"checkbox\" checked><label for=\"sk-estimator-id-6\" class=\"sk-toggleable__label sk-toggleable__label-arrow\">RandomForestClassifier</label><div class=\"sk-toggleable__content\"><pre>RandomForestClassifier()</pre></div></div></div></div></div>"
            ]
          },
          "metadata": {},
          "execution_count": 30
        }
      ]
    },
    {
      "cell_type": "code",
      "source": [
        "rf.feature_importances_"
      ],
      "metadata": {
        "colab": {
          "base_uri": "https://localhost:8080/"
        },
        "id": "s66wHsk2uovd",
        "outputId": "0be99fa4-f51e-4647-8655-262cc7f1e856"
      },
      "execution_count": 31,
      "outputs": [
        {
          "output_type": "execute_result",
          "data": {
            "text/plain": [
              "array([0.08541759, 0.02616893, 0.46007574, 0.42833773])"
            ]
          },
          "metadata": {},
          "execution_count": 31
        }
      ]
    },
    {
      "cell_type": "code",
      "source": [
        "X.drop(columns='sepal_width',inplace=True)\n",
        "X.head()"
      ],
      "metadata": {
        "colab": {
          "base_uri": "https://localhost:8080/",
          "height": 206
        },
        "id": "Bt4DHOPWur7h",
        "outputId": "29427ea3-a044-4c10-d1c3-4e5dd8f802e0"
      },
      "execution_count": 32,
      "outputs": [
        {
          "output_type": "execute_result",
          "data": {
            "text/plain": [
              "   sepal_length  petal_length  petal_width\n",
              "0           5.1           1.4          0.2\n",
              "1           4.9           1.4          0.2\n",
              "2           4.7           1.3          0.2\n",
              "3           4.6           1.5          0.2\n",
              "4           5.0           1.4          0.2"
            ],
            "text/html": [
              "\n",
              "  <div id=\"df-99b5917e-1d98-4c04-bbb0-27c5933802cd\">\n",
              "    <div class=\"colab-df-container\">\n",
              "      <div>\n",
              "<style scoped>\n",
              "    .dataframe tbody tr th:only-of-type {\n",
              "        vertical-align: middle;\n",
              "    }\n",
              "\n",
              "    .dataframe tbody tr th {\n",
              "        vertical-align: top;\n",
              "    }\n",
              "\n",
              "    .dataframe thead th {\n",
              "        text-align: right;\n",
              "    }\n",
              "</style>\n",
              "<table border=\"1\" class=\"dataframe\">\n",
              "  <thead>\n",
              "    <tr style=\"text-align: right;\">\n",
              "      <th></th>\n",
              "      <th>sepal_length</th>\n",
              "      <th>petal_length</th>\n",
              "      <th>petal_width</th>\n",
              "    </tr>\n",
              "  </thead>\n",
              "  <tbody>\n",
              "    <tr>\n",
              "      <th>0</th>\n",
              "      <td>5.1</td>\n",
              "      <td>1.4</td>\n",
              "      <td>0.2</td>\n",
              "    </tr>\n",
              "    <tr>\n",
              "      <th>1</th>\n",
              "      <td>4.9</td>\n",
              "      <td>1.4</td>\n",
              "      <td>0.2</td>\n",
              "    </tr>\n",
              "    <tr>\n",
              "      <th>2</th>\n",
              "      <td>4.7</td>\n",
              "      <td>1.3</td>\n",
              "      <td>0.2</td>\n",
              "    </tr>\n",
              "    <tr>\n",
              "      <th>3</th>\n",
              "      <td>4.6</td>\n",
              "      <td>1.5</td>\n",
              "      <td>0.2</td>\n",
              "    </tr>\n",
              "    <tr>\n",
              "      <th>4</th>\n",
              "      <td>5.0</td>\n",
              "      <td>1.4</td>\n",
              "      <td>0.2</td>\n",
              "    </tr>\n",
              "  </tbody>\n",
              "</table>\n",
              "</div>\n",
              "      <button class=\"colab-df-convert\" onclick=\"convertToInteractive('df-99b5917e-1d98-4c04-bbb0-27c5933802cd')\"\n",
              "              title=\"Convert this dataframe to an interactive table.\"\n",
              "              style=\"display:none;\">\n",
              "        \n",
              "  <svg xmlns=\"http://www.w3.org/2000/svg\" height=\"24px\"viewBox=\"0 0 24 24\"\n",
              "       width=\"24px\">\n",
              "    <path d=\"M0 0h24v24H0V0z\" fill=\"none\"/>\n",
              "    <path d=\"M18.56 5.44l.94 2.06.94-2.06 2.06-.94-2.06-.94-.94-2.06-.94 2.06-2.06.94zm-11 1L8.5 8.5l.94-2.06 2.06-.94-2.06-.94L8.5 2.5l-.94 2.06-2.06.94zm10 10l.94 2.06.94-2.06 2.06-.94-2.06-.94-.94-2.06-.94 2.06-2.06.94z\"/><path d=\"M17.41 7.96l-1.37-1.37c-.4-.4-.92-.59-1.43-.59-.52 0-1.04.2-1.43.59L10.3 9.45l-7.72 7.72c-.78.78-.78 2.05 0 2.83L4 21.41c.39.39.9.59 1.41.59.51 0 1.02-.2 1.41-.59l7.78-7.78 2.81-2.81c.8-.78.8-2.07 0-2.86zM5.41 20L4 18.59l7.72-7.72 1.47 1.35L5.41 20z\"/>\n",
              "  </svg>\n",
              "      </button>\n",
              "      \n",
              "  <style>\n",
              "    .colab-df-container {\n",
              "      display:flex;\n",
              "      flex-wrap:wrap;\n",
              "      gap: 12px;\n",
              "    }\n",
              "\n",
              "    .colab-df-convert {\n",
              "      background-color: #E8F0FE;\n",
              "      border: none;\n",
              "      border-radius: 50%;\n",
              "      cursor: pointer;\n",
              "      display: none;\n",
              "      fill: #1967D2;\n",
              "      height: 32px;\n",
              "      padding: 0 0 0 0;\n",
              "      width: 32px;\n",
              "    }\n",
              "\n",
              "    .colab-df-convert:hover {\n",
              "      background-color: #E2EBFA;\n",
              "      box-shadow: 0px 1px 2px rgba(60, 64, 67, 0.3), 0px 1px 3px 1px rgba(60, 64, 67, 0.15);\n",
              "      fill: #174EA6;\n",
              "    }\n",
              "\n",
              "    [theme=dark] .colab-df-convert {\n",
              "      background-color: #3B4455;\n",
              "      fill: #D2E3FC;\n",
              "    }\n",
              "\n",
              "    [theme=dark] .colab-df-convert:hover {\n",
              "      background-color: #434B5C;\n",
              "      box-shadow: 0px 1px 3px 1px rgba(0, 0, 0, 0.15);\n",
              "      filter: drop-shadow(0px 1px 2px rgba(0, 0, 0, 0.3));\n",
              "      fill: #FFFFFF;\n",
              "    }\n",
              "  </style>\n",
              "\n",
              "      <script>\n",
              "        const buttonEl =\n",
              "          document.querySelector('#df-99b5917e-1d98-4c04-bbb0-27c5933802cd button.colab-df-convert');\n",
              "        buttonEl.style.display =\n",
              "          google.colab.kernel.accessAllowed ? 'block' : 'none';\n",
              "\n",
              "        async function convertToInteractive(key) {\n",
              "          const element = document.querySelector('#df-99b5917e-1d98-4c04-bbb0-27c5933802cd');\n",
              "          const dataTable =\n",
              "            await google.colab.kernel.invokeFunction('convertToInteractive',\n",
              "                                                     [key], {});\n",
              "          if (!dataTable) return;\n",
              "\n",
              "          const docLinkHtml = 'Like what you see? Visit the ' +\n",
              "            '<a target=\"_blank\" href=https://colab.research.google.com/notebooks/data_table.ipynb>data table notebook</a>'\n",
              "            + ' to learn more about interactive tables.';\n",
              "          element.innerHTML = '';\n",
              "          dataTable['output_type'] = 'display_data';\n",
              "          await google.colab.output.renderOutput(dataTable, element);\n",
              "          const docLink = document.createElement('div');\n",
              "          docLink.innerHTML = docLinkHtml;\n",
              "          element.appendChild(docLink);\n",
              "        }\n",
              "      </script>\n",
              "    </div>\n",
              "  </div>\n",
              "  "
            ]
          },
          "metadata": {},
          "execution_count": 32
        }
      ]
    },
    {
      "cell_type": "code",
      "source": [
        "rf = RandomForestClassifier()\n",
        "rf.fit(X,y)\n",
        "\n",
        "rf.feature_importances_"
      ],
      "metadata": {
        "colab": {
          "base_uri": "https://localhost:8080/"
        },
        "id": "fy3MRpR8vJQ1",
        "outputId": "27716112-f04a-4811-bbf1-7d0b0ff9faca"
      },
      "execution_count": 33,
      "outputs": [
        {
          "output_type": "execute_result",
          "data": {
            "text/plain": [
              "array([0.21661258, 0.43072688, 0.35266053])"
            ]
          },
          "metadata": {},
          "execution_count": 33
        }
      ]
    },
    {
      "cell_type": "code",
      "source": [
        "X.drop(columns='sepal_length',inplace=True)\n",
        "X.head()"
      ],
      "metadata": {
        "colab": {
          "base_uri": "https://localhost:8080/",
          "height": 206
        },
        "id": "0q5BlrQcvO0I",
        "outputId": "b1a768f2-6499-47da-c564-89528117a4fe"
      },
      "execution_count": 34,
      "outputs": [
        {
          "output_type": "execute_result",
          "data": {
            "text/plain": [
              "   petal_length  petal_width\n",
              "0           1.4          0.2\n",
              "1           1.4          0.2\n",
              "2           1.3          0.2\n",
              "3           1.5          0.2\n",
              "4           1.4          0.2"
            ],
            "text/html": [
              "\n",
              "  <div id=\"df-a4c19231-9409-4af7-a8f6-0cd92df54c16\">\n",
              "    <div class=\"colab-df-container\">\n",
              "      <div>\n",
              "<style scoped>\n",
              "    .dataframe tbody tr th:only-of-type {\n",
              "        vertical-align: middle;\n",
              "    }\n",
              "\n",
              "    .dataframe tbody tr th {\n",
              "        vertical-align: top;\n",
              "    }\n",
              "\n",
              "    .dataframe thead th {\n",
              "        text-align: right;\n",
              "    }\n",
              "</style>\n",
              "<table border=\"1\" class=\"dataframe\">\n",
              "  <thead>\n",
              "    <tr style=\"text-align: right;\">\n",
              "      <th></th>\n",
              "      <th>petal_length</th>\n",
              "      <th>petal_width</th>\n",
              "    </tr>\n",
              "  </thead>\n",
              "  <tbody>\n",
              "    <tr>\n",
              "      <th>0</th>\n",
              "      <td>1.4</td>\n",
              "      <td>0.2</td>\n",
              "    </tr>\n",
              "    <tr>\n",
              "      <th>1</th>\n",
              "      <td>1.4</td>\n",
              "      <td>0.2</td>\n",
              "    </tr>\n",
              "    <tr>\n",
              "      <th>2</th>\n",
              "      <td>1.3</td>\n",
              "      <td>0.2</td>\n",
              "    </tr>\n",
              "    <tr>\n",
              "      <th>3</th>\n",
              "      <td>1.5</td>\n",
              "      <td>0.2</td>\n",
              "    </tr>\n",
              "    <tr>\n",
              "      <th>4</th>\n",
              "      <td>1.4</td>\n",
              "      <td>0.2</td>\n",
              "    </tr>\n",
              "  </tbody>\n",
              "</table>\n",
              "</div>\n",
              "      <button class=\"colab-df-convert\" onclick=\"convertToInteractive('df-a4c19231-9409-4af7-a8f6-0cd92df54c16')\"\n",
              "              title=\"Convert this dataframe to an interactive table.\"\n",
              "              style=\"display:none;\">\n",
              "        \n",
              "  <svg xmlns=\"http://www.w3.org/2000/svg\" height=\"24px\"viewBox=\"0 0 24 24\"\n",
              "       width=\"24px\">\n",
              "    <path d=\"M0 0h24v24H0V0z\" fill=\"none\"/>\n",
              "    <path d=\"M18.56 5.44l.94 2.06.94-2.06 2.06-.94-2.06-.94-.94-2.06-.94 2.06-2.06.94zm-11 1L8.5 8.5l.94-2.06 2.06-.94-2.06-.94L8.5 2.5l-.94 2.06-2.06.94zm10 10l.94 2.06.94-2.06 2.06-.94-2.06-.94-.94-2.06-.94 2.06-2.06.94z\"/><path d=\"M17.41 7.96l-1.37-1.37c-.4-.4-.92-.59-1.43-.59-.52 0-1.04.2-1.43.59L10.3 9.45l-7.72 7.72c-.78.78-.78 2.05 0 2.83L4 21.41c.39.39.9.59 1.41.59.51 0 1.02-.2 1.41-.59l7.78-7.78 2.81-2.81c.8-.78.8-2.07 0-2.86zM5.41 20L4 18.59l7.72-7.72 1.47 1.35L5.41 20z\"/>\n",
              "  </svg>\n",
              "      </button>\n",
              "      \n",
              "  <style>\n",
              "    .colab-df-container {\n",
              "      display:flex;\n",
              "      flex-wrap:wrap;\n",
              "      gap: 12px;\n",
              "    }\n",
              "\n",
              "    .colab-df-convert {\n",
              "      background-color: #E8F0FE;\n",
              "      border: none;\n",
              "      border-radius: 50%;\n",
              "      cursor: pointer;\n",
              "      display: none;\n",
              "      fill: #1967D2;\n",
              "      height: 32px;\n",
              "      padding: 0 0 0 0;\n",
              "      width: 32px;\n",
              "    }\n",
              "\n",
              "    .colab-df-convert:hover {\n",
              "      background-color: #E2EBFA;\n",
              "      box-shadow: 0px 1px 2px rgba(60, 64, 67, 0.3), 0px 1px 3px 1px rgba(60, 64, 67, 0.15);\n",
              "      fill: #174EA6;\n",
              "    }\n",
              "\n",
              "    [theme=dark] .colab-df-convert {\n",
              "      background-color: #3B4455;\n",
              "      fill: #D2E3FC;\n",
              "    }\n",
              "\n",
              "    [theme=dark] .colab-df-convert:hover {\n",
              "      background-color: #434B5C;\n",
              "      box-shadow: 0px 1px 3px 1px rgba(0, 0, 0, 0.15);\n",
              "      filter: drop-shadow(0px 1px 2px rgba(0, 0, 0, 0.3));\n",
              "      fill: #FFFFFF;\n",
              "    }\n",
              "  </style>\n",
              "\n",
              "      <script>\n",
              "        const buttonEl =\n",
              "          document.querySelector('#df-a4c19231-9409-4af7-a8f6-0cd92df54c16 button.colab-df-convert');\n",
              "        buttonEl.style.display =\n",
              "          google.colab.kernel.accessAllowed ? 'block' : 'none';\n",
              "\n",
              "        async function convertToInteractive(key) {\n",
              "          const element = document.querySelector('#df-a4c19231-9409-4af7-a8f6-0cd92df54c16');\n",
              "          const dataTable =\n",
              "            await google.colab.kernel.invokeFunction('convertToInteractive',\n",
              "                                                     [key], {});\n",
              "          if (!dataTable) return;\n",
              "\n",
              "          const docLinkHtml = 'Like what you see? Visit the ' +\n",
              "            '<a target=\"_blank\" href=https://colab.research.google.com/notebooks/data_table.ipynb>data table notebook</a>'\n",
              "            + ' to learn more about interactive tables.';\n",
              "          element.innerHTML = '';\n",
              "          dataTable['output_type'] = 'display_data';\n",
              "          await google.colab.output.renderOutput(dataTable, element);\n",
              "          const docLink = document.createElement('div');\n",
              "          docLink.innerHTML = docLinkHtml;\n",
              "          element.appendChild(docLink);\n",
              "        }\n",
              "      </script>\n",
              "    </div>\n",
              "  </div>\n",
              "  "
            ]
          },
          "metadata": {},
          "execution_count": 34
        }
      ]
    },
    {
      "cell_type": "code",
      "source": [
        "rf = RandomForestClassifier()\n",
        "rf.fit(X,y)\n",
        "\n",
        "rf.feature_importances_"
      ],
      "metadata": {
        "colab": {
          "base_uri": "https://localhost:8080/"
        },
        "id": "EjOMitHrvUjg",
        "outputId": "80bb1488-0644-4305-d500-3aca8db363b4"
      },
      "execution_count": 35,
      "outputs": [
        {
          "output_type": "execute_result",
          "data": {
            "text/plain": [
              "array([0.48844024, 0.51155976])"
            ]
          },
          "metadata": {},
          "execution_count": 35
        }
      ]
    },
    {
      "cell_type": "code",
      "source": [
        "X.drop(columns='petal_length',inplace=True)\n",
        "X.head()"
      ],
      "metadata": {
        "colab": {
          "base_uri": "https://localhost:8080/",
          "height": 206
        },
        "id": "Q9pxHzbIvXaU",
        "outputId": "f734f772-6d8f-4889-b0d5-1aa916cf1d72"
      },
      "execution_count": 36,
      "outputs": [
        {
          "output_type": "execute_result",
          "data": {
            "text/plain": [
              "   petal_width\n",
              "0          0.2\n",
              "1          0.2\n",
              "2          0.2\n",
              "3          0.2\n",
              "4          0.2"
            ],
            "text/html": [
              "\n",
              "  <div id=\"df-d68aadc1-53fd-4332-a0b6-15225f0f1d8d\">\n",
              "    <div class=\"colab-df-container\">\n",
              "      <div>\n",
              "<style scoped>\n",
              "    .dataframe tbody tr th:only-of-type {\n",
              "        vertical-align: middle;\n",
              "    }\n",
              "\n",
              "    .dataframe tbody tr th {\n",
              "        vertical-align: top;\n",
              "    }\n",
              "\n",
              "    .dataframe thead th {\n",
              "        text-align: right;\n",
              "    }\n",
              "</style>\n",
              "<table border=\"1\" class=\"dataframe\">\n",
              "  <thead>\n",
              "    <tr style=\"text-align: right;\">\n",
              "      <th></th>\n",
              "      <th>petal_width</th>\n",
              "    </tr>\n",
              "  </thead>\n",
              "  <tbody>\n",
              "    <tr>\n",
              "      <th>0</th>\n",
              "      <td>0.2</td>\n",
              "    </tr>\n",
              "    <tr>\n",
              "      <th>1</th>\n",
              "      <td>0.2</td>\n",
              "    </tr>\n",
              "    <tr>\n",
              "      <th>2</th>\n",
              "      <td>0.2</td>\n",
              "    </tr>\n",
              "    <tr>\n",
              "      <th>3</th>\n",
              "      <td>0.2</td>\n",
              "    </tr>\n",
              "    <tr>\n",
              "      <th>4</th>\n",
              "      <td>0.2</td>\n",
              "    </tr>\n",
              "  </tbody>\n",
              "</table>\n",
              "</div>\n",
              "      <button class=\"colab-df-convert\" onclick=\"convertToInteractive('df-d68aadc1-53fd-4332-a0b6-15225f0f1d8d')\"\n",
              "              title=\"Convert this dataframe to an interactive table.\"\n",
              "              style=\"display:none;\">\n",
              "        \n",
              "  <svg xmlns=\"http://www.w3.org/2000/svg\" height=\"24px\"viewBox=\"0 0 24 24\"\n",
              "       width=\"24px\">\n",
              "    <path d=\"M0 0h24v24H0V0z\" fill=\"none\"/>\n",
              "    <path d=\"M18.56 5.44l.94 2.06.94-2.06 2.06-.94-2.06-.94-.94-2.06-.94 2.06-2.06.94zm-11 1L8.5 8.5l.94-2.06 2.06-.94-2.06-.94L8.5 2.5l-.94 2.06-2.06.94zm10 10l.94 2.06.94-2.06 2.06-.94-2.06-.94-.94-2.06-.94 2.06-2.06.94z\"/><path d=\"M17.41 7.96l-1.37-1.37c-.4-.4-.92-.59-1.43-.59-.52 0-1.04.2-1.43.59L10.3 9.45l-7.72 7.72c-.78.78-.78 2.05 0 2.83L4 21.41c.39.39.9.59 1.41.59.51 0 1.02-.2 1.41-.59l7.78-7.78 2.81-2.81c.8-.78.8-2.07 0-2.86zM5.41 20L4 18.59l7.72-7.72 1.47 1.35L5.41 20z\"/>\n",
              "  </svg>\n",
              "      </button>\n",
              "      \n",
              "  <style>\n",
              "    .colab-df-container {\n",
              "      display:flex;\n",
              "      flex-wrap:wrap;\n",
              "      gap: 12px;\n",
              "    }\n",
              "\n",
              "    .colab-df-convert {\n",
              "      background-color: #E8F0FE;\n",
              "      border: none;\n",
              "      border-radius: 50%;\n",
              "      cursor: pointer;\n",
              "      display: none;\n",
              "      fill: #1967D2;\n",
              "      height: 32px;\n",
              "      padding: 0 0 0 0;\n",
              "      width: 32px;\n",
              "    }\n",
              "\n",
              "    .colab-df-convert:hover {\n",
              "      background-color: #E2EBFA;\n",
              "      box-shadow: 0px 1px 2px rgba(60, 64, 67, 0.3), 0px 1px 3px 1px rgba(60, 64, 67, 0.15);\n",
              "      fill: #174EA6;\n",
              "    }\n",
              "\n",
              "    [theme=dark] .colab-df-convert {\n",
              "      background-color: #3B4455;\n",
              "      fill: #D2E3FC;\n",
              "    }\n",
              "\n",
              "    [theme=dark] .colab-df-convert:hover {\n",
              "      background-color: #434B5C;\n",
              "      box-shadow: 0px 1px 3px 1px rgba(0, 0, 0, 0.15);\n",
              "      filter: drop-shadow(0px 1px 2px rgba(0, 0, 0, 0.3));\n",
              "      fill: #FFFFFF;\n",
              "    }\n",
              "  </style>\n",
              "\n",
              "      <script>\n",
              "        const buttonEl =\n",
              "          document.querySelector('#df-d68aadc1-53fd-4332-a0b6-15225f0f1d8d button.colab-df-convert');\n",
              "        buttonEl.style.display =\n",
              "          google.colab.kernel.accessAllowed ? 'block' : 'none';\n",
              "\n",
              "        async function convertToInteractive(key) {\n",
              "          const element = document.querySelector('#df-d68aadc1-53fd-4332-a0b6-15225f0f1d8d');\n",
              "          const dataTable =\n",
              "            await google.colab.kernel.invokeFunction('convertToInteractive',\n",
              "                                                     [key], {});\n",
              "          if (!dataTable) return;\n",
              "\n",
              "          const docLinkHtml = 'Like what you see? Visit the ' +\n",
              "            '<a target=\"_blank\" href=https://colab.research.google.com/notebooks/data_table.ipynb>data table notebook</a>'\n",
              "            + ' to learn more about interactive tables.';\n",
              "          element.innerHTML = '';\n",
              "          dataTable['output_type'] = 'display_data';\n",
              "          await google.colab.output.renderOutput(dataTable, element);\n",
              "          const docLink = document.createElement('div');\n",
              "          docLink.innerHTML = docLinkHtml;\n",
              "          element.appendChild(docLink);\n",
              "        }\n",
              "      </script>\n",
              "    </div>\n",
              "  </div>\n",
              "  "
            ]
          },
          "metadata": {},
          "execution_count": 36
        }
      ]
    },
    {
      "cell_type": "markdown",
      "source": [
        "### Sklearn RFE"
      ],
      "metadata": {
        "id": "MBS2z4G29Avb"
      }
    },
    {
      "cell_type": "code",
      "source": [
        "import pandas as pd\n",
        "from sklearn.ensemble import RandomForestClassifier\n",
        "from sklearn.feature_selection import RFE\n",
        "from sklearn.model_selection import train_test_split\n",
        "from sklearn.preprocessing import LabelEncoder\n",
        "\n",
        "# Load iris dataset\n",
        "url = \"https://gist.githubusercontent.com/curran/a08a1080b88344b0c8a7/raw/0e7a9b0a5d22642a06d3d5b9bcbad9890c8ee534/iris.csv\"\n",
        "df = pd.read_csv(url)\n",
        "\n",
        "# Separate features and target variable\n",
        "X = df.drop(\"species\", axis=1)\n",
        "y = df[\"species\"]\n",
        "\n",
        "# Initialize RandomForestClassifier\n",
        "model = RandomForestClassifier()\n",
        "\n",
        "# Initialize RFE\n",
        "rfe = RFE(estimator=model, n_features_to_select=1)\n",
        "\n",
        "# Fit RFE\n",
        "rfe.fit(X, y)\n",
        "\n",
        "# Print the ranking\n",
        "ranking = rfe.ranking_\n",
        "print(\"Feature ranking:\")\n",
        "\n",
        "for i, feature in enumerate(X.columns):\n",
        "    print(f\"{feature}: {ranking[i]}\")\n"
      ],
      "metadata": {
        "colab": {
          "base_uri": "https://localhost:8080/"
        },
        "id": "nzE_UADz9Dck",
        "outputId": "abffae42-be77-47c5-b94d-7813ebf55766"
      },
      "execution_count": 38,
      "outputs": [
        {
          "output_type": "stream",
          "name": "stdout",
          "text": [
            "Feature ranking:\n",
            "sepal_length: 3\n",
            "sepal_width: 4\n",
            "petal_length: 1\n",
            "petal_width: 2\n"
          ]
        }
      ]
    },
    {
      "cell_type": "code",
      "source": [
        "import pandas as pd\n",
        "from sklearn.ensemble import RandomForestClassifier\n",
        "from sklearn.feature_selection import RFECV\n",
        "from sklearn.model_selection import train_test_split\n",
        "from sklearn.preprocessing import LabelEncoder\n",
        "\n",
        "# Load iris dataset\n",
        "url = \"https://gist.githubusercontent.com/curran/a08a1080b88344b0c8a7/raw/0e7a9b0a5d22642a06d3d5b9bcbad9890c8ee534/iris.csv\"\n",
        "df = pd.read_csv(url)\n",
        "\n",
        "# Separate features and target variable\n",
        "X = df.drop(\"species\", axis=1)\n",
        "y = df[\"species\"]\n",
        "\n",
        "# Initialize RandomForestClassifier\n",
        "model = RandomForestClassifier()\n",
        "\n",
        "# Initialize RFE\n",
        "rfe = RFECV(estimator=model, cv=5)\n",
        "\n",
        "# Fit RFE\n",
        "rfe.fit(X, y)\n",
        "\n",
        "# Print the ranking\n",
        "ranking = rfe.ranking_\n",
        "print(\"Feature ranking:\")\n",
        "\n",
        "for i, feature in enumerate(X.columns):\n",
        "    print(f\"{feature}: {ranking[i]}\")\n"
      ],
      "metadata": {
        "id": "neHKbaeA9zSA",
        "colab": {
          "base_uri": "https://localhost:8080/"
        },
        "outputId": "64a7acf7-86c8-47ea-e450-20420dc03255"
      },
      "execution_count": 40,
      "outputs": [
        {
          "output_type": "stream",
          "name": "stdout",
          "text": [
            "Feature ranking:\n",
            "sepal_length: 1\n",
            "sepal_width: 1\n",
            "petal_length: 1\n",
            "petal_width: 1\n"
          ]
        }
      ]
    },
    {
      "cell_type": "code",
      "source": [],
      "metadata": {
        "id": "P6O3Txi5HQTx"
      },
      "execution_count": null,
      "outputs": []
    },
    {
      "cell_type": "markdown",
      "source": [
        "### Mutual Info\n",
        "\n",
        "\n",
        "Mutual Information: Measures the dependency between two variables.\n",
        "It's a more general form of the correlation coefficient and can capture\n",
        "non-linear dependencies. Use this when you want to measure both linear\n",
        "and non-linear dependencies between features and the target variable."
      ],
      "metadata": {
        "id": "JhSKQuGWPgRw"
      }
    },
    {
      "cell_type": "code",
      "source": [
        "import pandas as pd\n",
        "\n",
        "data = {\n",
        "    'A': ['a1', 'a2', 'a1', 'a1', 'a2', 'a1', 'a2', 'a2'],\n",
        "    'B': ['b1', 'b2', 'b2', 'b1', 'b1', 'b2', 'b2', 'b1']\n",
        "}\n",
        "\n",
        "df = pd.DataFrame(data)\n"
      ],
      "metadata": {
        "id": "kkYW0MXlWtrt"
      },
      "execution_count": 41,
      "outputs": []
    },
    {
      "cell_type": "code",
      "source": [
        "marginal = pd.crosstab(df['A'], df['B'], margins=True)\n",
        "marginal"
      ],
      "metadata": {
        "colab": {
          "base_uri": "https://localhost:8080/",
          "height": 175
        },
        "id": "IleU9mosHdRg",
        "outputId": "d2d2c7ec-7783-43e0-9bf5-e209ad67e935"
      },
      "execution_count": 42,
      "outputs": [
        {
          "output_type": "execute_result",
          "data": {
            "text/plain": [
              "B    b1  b2  All\n",
              "A               \n",
              "a1    2   2    4\n",
              "a2    2   2    4\n",
              "All   4   4    8"
            ],
            "text/html": [
              "\n",
              "  <div id=\"df-fe9d08c8-2463-45c9-b543-7bc548c3c429\">\n",
              "    <div class=\"colab-df-container\">\n",
              "      <div>\n",
              "<style scoped>\n",
              "    .dataframe tbody tr th:only-of-type {\n",
              "        vertical-align: middle;\n",
              "    }\n",
              "\n",
              "    .dataframe tbody tr th {\n",
              "        vertical-align: top;\n",
              "    }\n",
              "\n",
              "    .dataframe thead th {\n",
              "        text-align: right;\n",
              "    }\n",
              "</style>\n",
              "<table border=\"1\" class=\"dataframe\">\n",
              "  <thead>\n",
              "    <tr style=\"text-align: right;\">\n",
              "      <th>B</th>\n",
              "      <th>b1</th>\n",
              "      <th>b2</th>\n",
              "      <th>All</th>\n",
              "    </tr>\n",
              "    <tr>\n",
              "      <th>A</th>\n",
              "      <th></th>\n",
              "      <th></th>\n",
              "      <th></th>\n",
              "    </tr>\n",
              "  </thead>\n",
              "  <tbody>\n",
              "    <tr>\n",
              "      <th>a1</th>\n",
              "      <td>2</td>\n",
              "      <td>2</td>\n",
              "      <td>4</td>\n",
              "    </tr>\n",
              "    <tr>\n",
              "      <th>a2</th>\n",
              "      <td>2</td>\n",
              "      <td>2</td>\n",
              "      <td>4</td>\n",
              "    </tr>\n",
              "    <tr>\n",
              "      <th>All</th>\n",
              "      <td>4</td>\n",
              "      <td>4</td>\n",
              "      <td>8</td>\n",
              "    </tr>\n",
              "  </tbody>\n",
              "</table>\n",
              "</div>\n",
              "      <button class=\"colab-df-convert\" onclick=\"convertToInteractive('df-fe9d08c8-2463-45c9-b543-7bc548c3c429')\"\n",
              "              title=\"Convert this dataframe to an interactive table.\"\n",
              "              style=\"display:none;\">\n",
              "        \n",
              "  <svg xmlns=\"http://www.w3.org/2000/svg\" height=\"24px\"viewBox=\"0 0 24 24\"\n",
              "       width=\"24px\">\n",
              "    <path d=\"M0 0h24v24H0V0z\" fill=\"none\"/>\n",
              "    <path d=\"M18.56 5.44l.94 2.06.94-2.06 2.06-.94-2.06-.94-.94-2.06-.94 2.06-2.06.94zm-11 1L8.5 8.5l.94-2.06 2.06-.94-2.06-.94L8.5 2.5l-.94 2.06-2.06.94zm10 10l.94 2.06.94-2.06 2.06-.94-2.06-.94-.94-2.06-.94 2.06-2.06.94z\"/><path d=\"M17.41 7.96l-1.37-1.37c-.4-.4-.92-.59-1.43-.59-.52 0-1.04.2-1.43.59L10.3 9.45l-7.72 7.72c-.78.78-.78 2.05 0 2.83L4 21.41c.39.39.9.59 1.41.59.51 0 1.02-.2 1.41-.59l7.78-7.78 2.81-2.81c.8-.78.8-2.07 0-2.86zM5.41 20L4 18.59l7.72-7.72 1.47 1.35L5.41 20z\"/>\n",
              "  </svg>\n",
              "      </button>\n",
              "      \n",
              "  <style>\n",
              "    .colab-df-container {\n",
              "      display:flex;\n",
              "      flex-wrap:wrap;\n",
              "      gap: 12px;\n",
              "    }\n",
              "\n",
              "    .colab-df-convert {\n",
              "      background-color: #E8F0FE;\n",
              "      border: none;\n",
              "      border-radius: 50%;\n",
              "      cursor: pointer;\n",
              "      display: none;\n",
              "      fill: #1967D2;\n",
              "      height: 32px;\n",
              "      padding: 0 0 0 0;\n",
              "      width: 32px;\n",
              "    }\n",
              "\n",
              "    .colab-df-convert:hover {\n",
              "      background-color: #E2EBFA;\n",
              "      box-shadow: 0px 1px 2px rgba(60, 64, 67, 0.3), 0px 1px 3px 1px rgba(60, 64, 67, 0.15);\n",
              "      fill: #174EA6;\n",
              "    }\n",
              "\n",
              "    [theme=dark] .colab-df-convert {\n",
              "      background-color: #3B4455;\n",
              "      fill: #D2E3FC;\n",
              "    }\n",
              "\n",
              "    [theme=dark] .colab-df-convert:hover {\n",
              "      background-color: #434B5C;\n",
              "      box-shadow: 0px 1px 3px 1px rgba(0, 0, 0, 0.15);\n",
              "      filter: drop-shadow(0px 1px 2px rgba(0, 0, 0, 0.3));\n",
              "      fill: #FFFFFF;\n",
              "    }\n",
              "  </style>\n",
              "\n",
              "      <script>\n",
              "        const buttonEl =\n",
              "          document.querySelector('#df-fe9d08c8-2463-45c9-b543-7bc548c3c429 button.colab-df-convert');\n",
              "        buttonEl.style.display =\n",
              "          google.colab.kernel.accessAllowed ? 'block' : 'none';\n",
              "\n",
              "        async function convertToInteractive(key) {\n",
              "          const element = document.querySelector('#df-fe9d08c8-2463-45c9-b543-7bc548c3c429');\n",
              "          const dataTable =\n",
              "            await google.colab.kernel.invokeFunction('convertToInteractive',\n",
              "                                                     [key], {});\n",
              "          if (!dataTable) return;\n",
              "\n",
              "          const docLinkHtml = 'Like what you see? Visit the ' +\n",
              "            '<a target=\"_blank\" href=https://colab.research.google.com/notebooks/data_table.ipynb>data table notebook</a>'\n",
              "            + ' to learn more about interactive tables.';\n",
              "          element.innerHTML = '';\n",
              "          dataTable['output_type'] = 'display_data';\n",
              "          await google.colab.output.renderOutput(dataTable, element);\n",
              "          const docLink = document.createElement('div');\n",
              "          docLink.innerHTML = docLinkHtml;\n",
              "          element.appendChild(docLink);\n",
              "        }\n",
              "      </script>\n",
              "    </div>\n",
              "  </div>\n",
              "  "
            ]
          },
          "metadata": {},
          "execution_count": 42
        }
      ]
    },
    {
      "cell_type": "code",
      "source": [
        "marginal_prob = pd.crosstab(df['A'], df['B'], margins=True, normalize='all')\n",
        "marginal_prob\n"
      ],
      "metadata": {
        "id": "IfcHDOkfWxbk",
        "outputId": "17128bcc-78fd-4824-e464-20c666d144ef",
        "colab": {
          "base_uri": "https://localhost:8080/",
          "height": 175
        }
      },
      "execution_count": 43,
      "outputs": [
        {
          "output_type": "execute_result",
          "data": {
            "text/plain": [
              "B      b1    b2  All\n",
              "A                   \n",
              "a1   0.25  0.25  0.5\n",
              "a2   0.25  0.25  0.5\n",
              "All  0.50  0.50  1.0"
            ],
            "text/html": [
              "\n",
              "  <div id=\"df-20c0d576-5720-472e-907d-915039b0c119\">\n",
              "    <div class=\"colab-df-container\">\n",
              "      <div>\n",
              "<style scoped>\n",
              "    .dataframe tbody tr th:only-of-type {\n",
              "        vertical-align: middle;\n",
              "    }\n",
              "\n",
              "    .dataframe tbody tr th {\n",
              "        vertical-align: top;\n",
              "    }\n",
              "\n",
              "    .dataframe thead th {\n",
              "        text-align: right;\n",
              "    }\n",
              "</style>\n",
              "<table border=\"1\" class=\"dataframe\">\n",
              "  <thead>\n",
              "    <tr style=\"text-align: right;\">\n",
              "      <th>B</th>\n",
              "      <th>b1</th>\n",
              "      <th>b2</th>\n",
              "      <th>All</th>\n",
              "    </tr>\n",
              "    <tr>\n",
              "      <th>A</th>\n",
              "      <th></th>\n",
              "      <th></th>\n",
              "      <th></th>\n",
              "    </tr>\n",
              "  </thead>\n",
              "  <tbody>\n",
              "    <tr>\n",
              "      <th>a1</th>\n",
              "      <td>0.25</td>\n",
              "      <td>0.25</td>\n",
              "      <td>0.5</td>\n",
              "    </tr>\n",
              "    <tr>\n",
              "      <th>a2</th>\n",
              "      <td>0.25</td>\n",
              "      <td>0.25</td>\n",
              "      <td>0.5</td>\n",
              "    </tr>\n",
              "    <tr>\n",
              "      <th>All</th>\n",
              "      <td>0.50</td>\n",
              "      <td>0.50</td>\n",
              "      <td>1.0</td>\n",
              "    </tr>\n",
              "  </tbody>\n",
              "</table>\n",
              "</div>\n",
              "      <button class=\"colab-df-convert\" onclick=\"convertToInteractive('df-20c0d576-5720-472e-907d-915039b0c119')\"\n",
              "              title=\"Convert this dataframe to an interactive table.\"\n",
              "              style=\"display:none;\">\n",
              "        \n",
              "  <svg xmlns=\"http://www.w3.org/2000/svg\" height=\"24px\"viewBox=\"0 0 24 24\"\n",
              "       width=\"24px\">\n",
              "    <path d=\"M0 0h24v24H0V0z\" fill=\"none\"/>\n",
              "    <path d=\"M18.56 5.44l.94 2.06.94-2.06 2.06-.94-2.06-.94-.94-2.06-.94 2.06-2.06.94zm-11 1L8.5 8.5l.94-2.06 2.06-.94-2.06-.94L8.5 2.5l-.94 2.06-2.06.94zm10 10l.94 2.06.94-2.06 2.06-.94-2.06-.94-.94-2.06-.94 2.06-2.06.94z\"/><path d=\"M17.41 7.96l-1.37-1.37c-.4-.4-.92-.59-1.43-.59-.52 0-1.04.2-1.43.59L10.3 9.45l-7.72 7.72c-.78.78-.78 2.05 0 2.83L4 21.41c.39.39.9.59 1.41.59.51 0 1.02-.2 1.41-.59l7.78-7.78 2.81-2.81c.8-.78.8-2.07 0-2.86zM5.41 20L4 18.59l7.72-7.72 1.47 1.35L5.41 20z\"/>\n",
              "  </svg>\n",
              "      </button>\n",
              "      \n",
              "  <style>\n",
              "    .colab-df-container {\n",
              "      display:flex;\n",
              "      flex-wrap:wrap;\n",
              "      gap: 12px;\n",
              "    }\n",
              "\n",
              "    .colab-df-convert {\n",
              "      background-color: #E8F0FE;\n",
              "      border: none;\n",
              "      border-radius: 50%;\n",
              "      cursor: pointer;\n",
              "      display: none;\n",
              "      fill: #1967D2;\n",
              "      height: 32px;\n",
              "      padding: 0 0 0 0;\n",
              "      width: 32px;\n",
              "    }\n",
              "\n",
              "    .colab-df-convert:hover {\n",
              "      background-color: #E2EBFA;\n",
              "      box-shadow: 0px 1px 2px rgba(60, 64, 67, 0.3), 0px 1px 3px 1px rgba(60, 64, 67, 0.15);\n",
              "      fill: #174EA6;\n",
              "    }\n",
              "\n",
              "    [theme=dark] .colab-df-convert {\n",
              "      background-color: #3B4455;\n",
              "      fill: #D2E3FC;\n",
              "    }\n",
              "\n",
              "    [theme=dark] .colab-df-convert:hover {\n",
              "      background-color: #434B5C;\n",
              "      box-shadow: 0px 1px 3px 1px rgba(0, 0, 0, 0.15);\n",
              "      filter: drop-shadow(0px 1px 2px rgba(0, 0, 0, 0.3));\n",
              "      fill: #FFFFFF;\n",
              "    }\n",
              "  </style>\n",
              "\n",
              "      <script>\n",
              "        const buttonEl =\n",
              "          document.querySelector('#df-20c0d576-5720-472e-907d-915039b0c119 button.colab-df-convert');\n",
              "        buttonEl.style.display =\n",
              "          google.colab.kernel.accessAllowed ? 'block' : 'none';\n",
              "\n",
              "        async function convertToInteractive(key) {\n",
              "          const element = document.querySelector('#df-20c0d576-5720-472e-907d-915039b0c119');\n",
              "          const dataTable =\n",
              "            await google.colab.kernel.invokeFunction('convertToInteractive',\n",
              "                                                     [key], {});\n",
              "          if (!dataTable) return;\n",
              "\n",
              "          const docLinkHtml = 'Like what you see? Visit the ' +\n",
              "            '<a target=\"_blank\" href=https://colab.research.google.com/notebooks/data_table.ipynb>data table notebook</a>'\n",
              "            + ' to learn more about interactive tables.';\n",
              "          element.innerHTML = '';\n",
              "          dataTable['output_type'] = 'display_data';\n",
              "          await google.colab.output.renderOutput(dataTable, element);\n",
              "          const docLink = document.createElement('div');\n",
              "          docLink.innerHTML = docLinkHtml;\n",
              "          element.appendChild(docLink);\n",
              "        }\n",
              "      </script>\n",
              "    </div>\n",
              "  </div>\n",
              "  "
            ]
          },
          "metadata": {},
          "execution_count": 43
        }
      ]
    },
    {
      "cell_type": "code",
      "source": [
        "from sklearn.feature_selection import mutual_info_classif\n",
        "from sklearn.datasets import load_iris\n",
        "import pandas as pd\n",
        "\n",
        "# Load iris dataset\n",
        "iris = load_iris()\n",
        "X = iris['data']\n",
        "y = iris['target']\n",
        "\n",
        "# Compute mutual information\n",
        "mi = mutual_info_classif(X, y)\n",
        "\n",
        "# Print mutual information\n",
        "for i, mi_value in enumerate(mi):\n",
        "    print(f\"Feature {i}: Mutual Information = {mi_value}\")\n"
      ],
      "metadata": {
        "colab": {
          "base_uri": "https://localhost:8080/"
        },
        "id": "an77UimAPiAk",
        "outputId": "0194a6b1-99c0-4a48-ea4a-6729883d693c"
      },
      "execution_count": 44,
      "outputs": [
        {
          "output_type": "stream",
          "name": "stdout",
          "text": [
            "Feature 0: Mutual Information = 0.4572935616048923\n",
            "Feature 1: Mutual Information = 0.27951168861139974\n",
            "Feature 2: Mutual Information = 0.9998673613769551\n",
            "Feature 3: Mutual Information = 0.9965899732435837\n"
          ]
        }
      ]
    },
    {
      "cell_type": "markdown",
      "source": [
        "## SelectKBest\n",
        "\n",
        "https://scikit-learn.org/stable/modules/generated/sklearn.feature_selection.SelectKBest.html\n"
      ],
      "metadata": {
        "id": "YNNNdaxnMboK"
      }
    },
    {
      "cell_type": "code",
      "source": [
        "from sklearn.feature_selection import SelectKBest, mutual_info_classif, mutual_info_regression\n",
        "from sklearn.datasets import load_iris\n",
        "\n",
        "# Load iris dataset\n",
        "iris = load_iris()\n",
        "X = iris['data']\n",
        "y = iris['target']\n",
        "\n",
        "# Create SelectKBest feature selector\n",
        "selector = SelectKBest(mutual_info_classif, k=2)\n",
        "\n",
        "# Fit and transform\n",
        "X_new = selector.fit_transform(X, y)\n",
        "\n",
        "# Get columns to keep and create new dataframe with those only\n",
        "cols = selector.get_support(indices=True)\n",
        "\n",
        "print(iris.feature_names)\n",
        "print(cols)\n"
      ],
      "metadata": {
        "colab": {
          "base_uri": "https://localhost:8080/"
        },
        "id": "W0lhjnTwPi_z",
        "outputId": "c831f172-562a-4587-c804-89607e014ac3"
      },
      "execution_count": 45,
      "outputs": [
        {
          "output_type": "stream",
          "name": "stdout",
          "text": [
            "['sepal length (cm)', 'sepal width (cm)', 'petal length (cm)', 'petal width (cm)']\n",
            "[2 3]\n"
          ]
        }
      ]
    },
    {
      "cell_type": "markdown",
      "source": [
        "Mutual Information has several properties that make it useful for feature selection:\n",
        "\n",
        "1. It is non-negative: MI is always zero or positive, with zero indicating that the variables are independent (ie., no information about one variable can be obtained by observing the other variable).\n",
        "\n",
        "2. It is symmetric: MI(X, Y)= MI(Y, X). The mutual information from X to Y is the same as from Y to X.\n",
        "\n",
        "3. It can capture kind of statistical dependency: Unlike correlation, which only captures linear-relationships, mutual information can capture any kind of relationship, inding nonlinear ones.\n"
      ],
      "metadata": {
        "id": "gnnDzGI6Lr9h"
      }
    },
    {
      "cell_type": "markdown",
      "source": [
        "![image.png](data:image/png;base64,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)"
      ],
      "metadata": {
        "id": "SQh_06JUMqNq"
      }
    },
    {
      "cell_type": "code",
      "source": [],
      "metadata": {
        "id": "CDHKJrc4PmVS"
      },
      "execution_count": null,
      "outputs": []
    },
    {
      "cell_type": "markdown",
      "source": [
        "# Embedded Method Advantages:\n",
        "\n",
        "Performance: They are generally more accurate than filter methods since they take the interactions between features into account.\n",
        "\n",
        "\n",
        "Efficiency: They are more computationally efficient than wrapper methods since they fit the model only once.\n",
        "\n",
        "\n",
        "Less Prone to Overfitting: They introduce some form of regularization, which helps to avoid overfitting. For example, Lasso and Ridge regression add a penalty to the loss function, shrinking some coefficients to zero."
      ],
      "metadata": {
        "id": "6xHB64rSI9t5"
      }
    },
    {
      "cell_type": "markdown",
      "source": [
        "# Embedded Method  Disadvantages:\n",
        "Model Specific: Since they are tied to a specific machine learning model, the selected features are not necessarily optimal for other models.\n",
        "\n",
        "\n",
        "Complexity: They can be more complex and harder to interpret than filter methods. For example, understanding why Lasso shrinks some coefficients to zero and not others can be non-trivial.\n",
        "\n",
        "\n",
        "Tuning Required: They often have hyperparameters that need to be tuned, like the\n",
        "regularization strength in Lasso and Ridge regression.\n",
        "\n",
        "\n",
        "Stability: Depending on the model and the data, small changes in the data can result in different sets of selected features. This is especially true for models that can fit complex decision boundaries, like decision trees."
      ],
      "metadata": {
        "id": "LcIq7BCxJNfB"
      }
    },
    {
      "cell_type": "code",
      "source": [],
      "metadata": {
        "id": "kP449k93NFgS"
      },
      "execution_count": null,
      "outputs": []
    },
    {
      "cell_type": "code",
      "source": [],
      "metadata": {
        "id": "hsSh0Lw6NFbC"
      },
      "execution_count": null,
      "outputs": []
    },
    {
      "cell_type": "markdown",
      "source": [
        "# 1. Filter Methods:\n",
        "\n",
        "- Variance Threshold: Removes all features whose variance doesn’t meet a\n",
        "certain threshold. Use this when you have many features and you want to\n",
        "remove those that are constants or near constants.\n",
        "\n",
        "\n",
        "- Correlation Coefficient: Finds the correlation between each pair of\n",
        "features. Highly correlated features can be removed since they contain\n",
        "similar information. Use this when you suspect that some features are\n",
        "highly correlated.\n",
        "\n",
        "- Chi-Square Test: This statistical test is used to determine if there’s a\n",
        "significant association between two variables. It's commonly used for\n",
        "categorical variables. Use this when you have categorical features and you\n",
        "want to find their dependency with the target variable.\n",
        "\n",
        "- Mutual Information: Measures the dependency between two variables.\n",
        "It's a more general form of the correlation coefficient and can capture\n",
        "non-linear dependencies. Use this when you want to measure both linear\n",
        "and non-linear dependencies between features and the target variable.\n",
        "\n",
        "\n",
        "- ANOVA (Analysis of Variance): ANOVA is a statistical test that stands for\n",
        "\"Analysis of Variance\". ANOVA tests the impact of one or more factors by\n",
        "comparing the means of different samples. Use this when you have one or\n",
        "more categorical independent variables and a continuous dependent\n",
        "variable.\n",
        "\n",
        "\n"
      ],
      "metadata": {
        "id": "79yfiQmyNF6C"
      }
    },
    {
      "cell_type": "markdown",
      "source": [
        "# 2. Wrapper Methods:\n",
        "\n",
        "- Recursive Feature Elimination (RFE): Recursively removes features, builds\n",
        "a model using the remaining attributes, and calculates model accuracy. It\n",
        "uses model accuracy to identify which attributes contribute the most. Use\n",
        "this when you want to leverage the model to identify the best features.\n",
        "\n",
        "\n",
        "- Sequential Feature Selection (SFS): Adds or removes one feature at the\n",
        "time based on the classifier performance until a feature subset of the\n",
        "desired size k is reached. Use this when computational cost is not an issue\n",
        "and you want to find the optimal feature subset.\n",
        "\n",
        "\n",
        "- Exhaustive Feature Selection: This is a brute-force evaluation of each\n",
        "feature subset. This method, as the name suggests, tries out all possible\n",
        "combinations of variables and returns the best subset. Use this when the\n",
        "number of features is small, as it can be computationally expensive."
      ],
      "metadata": {
        "id": "4S3orbEMNUDK"
      }
    },
    {
      "cell_type": "markdown",
      "source": [
        "# 3. Embedded Methods:\n",
        "\n",
        "- Lasso Regression: Lasso (Least Absolute Shrinkage and Selection Operator)\n",
        "is a regression analysis method that performs both variable selection and\n",
        "regularization. Use this when you want to create a simple and\n",
        "interpretable model.\n",
        "\n",
        "\n",
        "- Ridge Regression: Ridge regression is a method used to analyze multiple\n",
        "regression data that suffer from multicollinearity. Unlike Lasso, it doesn't\n",
        "lead to feature selection but rather minimizes the complexity of the\n",
        "model.\n",
        "\n",
        "\n",
        "- Elastic Net: This method is a combination of Lasso and Ridge. It\n",
        "incorporates penalties from both methods and is particularly useful when\n",
        "there are multiple correlated features.\n",
        "\n",
        "\n",
        "- Random Forest Importance: Random forests provide a straightforward\n",
        "method for feature selection, namely mean decrease impurity (MDI). Use\n",
        "this when you want to leverage the power of random forests for feature\n",
        "selection."
      ],
      "metadata": {
        "id": "qvCJ7qEGNe7K"
      }
    },
    {
      "cell_type": "code",
      "source": [],
      "metadata": {
        "id": "paBIiZETNmDQ"
      },
      "execution_count": null,
      "outputs": []
    }
  ]
}